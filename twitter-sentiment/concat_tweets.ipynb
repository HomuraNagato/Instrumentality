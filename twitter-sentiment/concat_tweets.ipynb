{
 "cells": [
  {
   "cell_type": "markdown",
   "metadata": {},
   "source": [
    "## Concat metadata with tweet files"
   ]
  },
  {
   "cell_type": "code",
   "execution_count": 1,
   "metadata": {},
   "outputs": [],
   "source": [
    "# general imports\n",
    "import numpy as np\n",
    "import pandas as pd\n",
    "import subprocess\n",
    "import re"
   ]
  },
  {
   "cell_type": "code",
   "execution_count": 9,
   "metadata": {},
   "outputs": [],
   "source": [
    "def runCmd(cmd, run=False):\n",
    "    '''\n",
    "    use stdout to run command and shell=True to allow command to be entered as a string\n",
    "    use rstrip() to remove carriage return and decode binary form to string. \n",
    "     '''\n",
    "    if run == False:\n",
    "        try:\n",
    "            output_cmd = subprocess.check_output(cmd, stderr=subprocess.STDOUT, shell=True)\n",
    "            output_cmd = output_cmd.rstrip().decode('UTF-8')\n",
    "        except subprocess.CalledProccessError as e:\n",
    "            print(\"Command\", e.cmd, \"returned with error code\", e.returncode)\n",
    "            print(\"setting output_cmd to empty array\")\n",
    "            output_cmd = []\n",
    "        return output_cmd\n",
    "    else:\n",
    "        subprocess.Popen(cmd, stderr=subprocess.STDOUT, shell=True)\n",
    "        return None\n",
    "\n",
    "def S2_from_csv(filename_A, filename_B):\n",
    "    # assumption, Tweets file ends with 'Tweets.csv'\n",
    "    filename_tweets, filename_meta = '', ''\n",
    "    if 'Tweets.csv' in filename_A:\n",
    "        filename_tweets, filename_meta = filename_A, filename_B\n",
    "    else:\n",
    "        filename_tweets, filename_meta = filename_B, filename_A\n",
    "    S2_tweets = pd.read_csv(filename_tweets, encoding='latin')\n",
    "    S2_meta = pd.read_csv(filename_meta, parse_dates=['date'], encoding='latin')\n",
    "    S2 = pd.concat([S2_tweets, S2_meta], axis=1)\n",
    "    return S2"
   ]
  },
  {
   "cell_type": "code",
   "execution_count": 12,
   "metadata": {},
   "outputs": [
    {
     "name": "stdout",
     "output_type": "stream",
     "text": [
      "Data files available to load\n",
      "0   complete_tweets/complete_tweets_2018_10-12.csv\n",
      "1   complete_tweets/complete_tweets_2018_10.csv\n",
      "2   complete_tweets/complete_tweets_2018_11.csv\n",
      "3   complete_tweets/complete_tweets_2018_12.csv\n",
      "4   complete_tweets/complete_tweets_tweets_2018-09-01_2018-09-15.csv\n",
      "5   complete_tweets/tweets_2017-11-16_2017-12-31.csv\n",
      "6   complete_tweets/tweets_2018-01-01_2018-01-14.csv\n",
      "7   complete_tweets/tweets_2018-01-15_2018-03-02.csv\n",
      "8   complete_tweets/tweets_2018-03-03_2018-04-17.csv\n",
      "9   complete_tweets/tweets_2018-04-18_2018-04-19.csv\n",
      "10   complete_tweets/tweets_2018-04-20_2018-06-06.csv\n",
      "11   complete_tweets/tweets_2018-06-07_2018-06-08.csv\n",
      "12   complete_tweets/tweets_2018-06-09_2018-07-16_Metadata.csv\n",
      "13   complete_tweets/tweets_2018-06-09_2018-07-16_Tweets.csv\n",
      "14   complete_tweets/tweets_2018-06-10_2018-07-29_Metadata.csv\n",
      "15   complete_tweets/tweets_2018-06-10_2018-07-29_Tweets.csv\n",
      "16   complete_tweets/tweets_2018-07-30_2018-08-31_Metadata.csv\n",
      "17   complete_tweets/tweets_2018-07-30_2018-08-31_Tweets.csv\n",
      "18   complete_tweets/tweets_2018-08-01_2018-08-31_Metadata.csv\n",
      "19   complete_tweets/tweets_2018-08-01_2018-08-31_Tweets.csv\n",
      "20   complete_tweets/tweets_2018-09-01_2018-09-15_Metadata.csv\n",
      "21   complete_tweets/tweets_2018-09-01_2018-09-15_Tweets.csv\n",
      "22   complete_tweets/tweets_2018-09-16_2018-09-30.csv\n",
      "23   complete_tweets/tweets_2018-10-01_2018-10-05_Metadata.csv\n",
      "24   complete_tweets/tweets_2018-10-01_2018-10-05_Tweets.csv\n",
      "25   complete_tweets/tweets_2018-10-06_2018-10-10_Metadata.csv\n",
      "26   complete_tweets/tweets_2018-10-06_2018-10-10_Tweets.csv\n",
      "27   complete_tweets/tweets_2018-10-11_2018-10-15_Metadata.csv\n",
      "28   complete_tweets/tweets_2018-10-11_2018-10-15_Tweets.csv\n",
      "29   complete_tweets/tweets_2018-10-16_2018-10-31_Metadata.csv\n",
      "30   complete_tweets/tweets_2018-10-16_2018-10-31_Tweets.csv\n",
      "31   complete_tweets/tweets_2018-11-01_2018-11-05_Metadata.csv\n",
      "32   complete_tweets/tweets_2018-11-01_2018-11-05_Tweets.csv\n",
      "33   complete_tweets/tweets_2018-11-01_2018-11-14_Metadata.csv\n",
      "34   complete_tweets/tweets_2018-11-01_2018-11-14_Tweets.csv\n",
      "35   complete_tweets/tweets_2018-11-06_2018-11-10_Metadata.csv\n",
      "36   complete_tweets/tweets_2018-11-06_2018-11-10_Tweets.csv\n",
      "37   complete_tweets/tweets_2018-11-11_2018-11-15_Metadata.csv\n",
      "38   complete_tweets/tweets_2018-11-11_2018-11-15_Tweets.csv\n",
      "39   complete_tweets/tweets_2018-11-16_2018-11-30_Metadata.csv\n",
      "40   complete_tweets/tweets_2018-11-16_2018-11-30_Tweets.csv\n",
      "41   complete_tweets/tweets_2018-12-01_2018-12-15_Metadata.csv\n",
      "42   complete_tweets/tweets_2018-12-01_2018-12-15_Tweets.csv\n",
      "43   complete_tweets/tweets_2018-12-16_2018-12-31_Metadata.csv\n",
      "44   complete_tweets/tweets_2018-12-16_2018-12-31_Tweets.csv\n",
      "45   complete_tweets/tweets_2019-02-16_2019-02-18_Metadata.csv\n",
      "46   complete_tweets/tweets_2019-02-16_2019-02-18_Tweets.csv\n",
      "\n",
      "Please input the file numbers of the Tweet and Metadata files you wish to concatenate separated by a dash and additional dates for concatting separated by a comma.\n",
      " For example, 1-2, 3-4 will concat files 1-2 and 3-4 by column then the two outputs by row: 20-21\n",
      "S2_temp shape (91500, 20)\n",
      "have a nice day\n"
     ]
    }
   ],
   "source": [
    "current_dir = ['complete_tweets/' + x for x in runCmd('ls complete_tweets/').split('\\n') if '.csv' in x]\n",
    "print(\"Data files available to load\")\n",
    "for i, x in enumerate(current_dir):\n",
    "    print(str(i), \" \", x)\n",
    "    \n",
    "value_selection = input(\"\\nPlease input the file numbers of the Tweet and Metadata files you wish to concatenate separated by a dash and additional dates for concatting separated by a comma.\\n For example, 1-2, 3-4 will concat files 1-2 and 3-4 by column then the two outputs by row: \")\n",
    "value_selection_regex = re.findall('(\\d-\\d),?', value_selection)\n",
    "\n",
    "S2 = pd.DataFrame()\n",
    "\n",
    "if value_selection_regex:\n",
    "    for column_concat_i in value_selection_regex:\n",
    "        file_a, file_b = column_concat_i.split('-')\n",
    "        #print(\"(\" + current_dir[int(file_a)] + \",\" + current_dir[int(file_b)] + \")\")\n",
    "        S2_temp = S2_from_csv(current_dir[int(file_a)], current_dir[int(file_b)])\n",
    "        print(\"S2_temp shape\", S2_temp.shape)\n",
    "        S2 = pd.concat([S2, S2_temp], axis=0)\n",
    "    \n",
    "    #filename = input(\"what month(s) should be used in the file name? For example inputting 2018_10 will result in a filename of 'complete_tweets_2018_10.csv': \")\n",
    "    #S2.to_csv('complete_tweets/complete_tweets_'+ filename + '.csv', index=False)\n",
    "\n",
    "print(\"have a nice day\")"
   ]
  },
  {
   "cell_type": "markdown",
   "metadata": {},
   "source": [
    "### Concat monthly files into year"
   ]
  },
  {
   "cell_type": "code",
   "execution_count": 11,
   "metadata": {},
   "outputs": [
    {
     "data": {
      "text/plain": [
       "(29500, 20)"
      ]
     },
     "execution_count": 11,
     "metadata": {},
     "output_type": "execute_result"
    }
   ],
   "source": [
    "S2.shape"
   ]
  },
  {
   "cell_type": "code",
   "execution_count": null,
   "metadata": {},
   "outputs": [],
   "source": []
  }
 ],
 "metadata": {
  "kernelspec": {
   "display_name": "Python 3",
   "language": "python",
   "name": "python3"
  },
  "language_info": {
   "codemirror_mode": {
    "name": "ipython",
    "version": 3
   },
   "file_extension": ".py",
   "mimetype": "text/x-python",
   "name": "python",
   "nbconvert_exporter": "python",
   "pygments_lexer": "ipython3",
   "version": "3.7.1"
  }
 },
 "nbformat": 4,
 "nbformat_minor": 2
}
