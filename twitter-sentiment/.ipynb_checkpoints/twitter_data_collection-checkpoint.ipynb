{
 "cells": [
  {
   "cell_type": "markdown",
   "metadata": {},
   "source": [
    "# Twitter data collection\n",
    "\n",
    "#### References\n",
    "\n",
    "searchtweets API reference: https://twitterdev.github.io/search-tweets-python/  \n",
    "Twitter API reference: https://developer.twitter.com/en/docs/tweets/search/api-reference/premium-search.html  \n",
    "Twitter tweet object and dictionary: https://developer.twitter.com/en/docs/tweets/data-dictionary/overview/tweet-object"
   ]
  },
  {
   "cell_type": "markdown",
   "metadata": {},
   "source": [
    "## Imports and credentials"
   ]
  },
  {
   "cell_type": "code",
<<<<<<< HEAD
   "execution_count": 11,
=======
   "execution_count": 1,
>>>>>>> 554d0bd5fbbd76efafccfe587c10f9a832c5a398
   "metadata": {},
   "outputs": [
    {
     "name": "stderr",
     "output_type": "stream",
     "text": [
      "Grabbing bearer token from OAUTH\n",
      "Grabbing bearer token from OAUTH\n"
     ]
    }
   ],
   "source": [
    "from searchtweets import ResultStream, gen_rule_payload, load_credentials, collect_results\n",
    "\n",
    "# general imports\n",
    "import numpy as np\n",
    "import pandas as pd\n",
    "from textblob import TextBlob\n",
    "import re\n",
    "import time\n",
    "import datetime\n",
    "\n",
    "# plotting and visualization\n",
    "import matplotlib\n",
    "import matplotlib.pyplot as plt\n",
    "%matplotlib inline\n",
    "\n",
    "premium_search_args_30day = load_credentials(\"~/.twitter_keys.yaml\",\n",
    "                                          yaml_key=\"search_tweets_premium_30day\",\n",
    "                                          env_overwrite=False)\n",
    "premium_search_args_fullarchive = load_credentials(\"~/.twitter_keys.yaml\",\n",
    "                                          yaml_key=\"search_tweets_premium_fullarchive\",\n",
    "                                          env_overwrite=False)\n",
    "\n",
    "# for na-young-joo\n",
    "# premium_search_args_30day = load_credentials(\"~/Documents/Research/.twitter_keys.yaml\",\n",
    "#                                           yaml_key=\"search_tweets_premium_30day\",\n",
    "#                                           env_overwrite=False)\n",
    "# premium_search_args_fullarchive = load_credentials(\"~/Documents/Research/.twitter_keys.yaml\",\n",
    "#                                           yaml_key=\"search_tweets_premium_fullarchive\",\n",
    "#                                           env_overwrite=False)"
   ]
  },
  {
   "cell_type": "markdown",
   "metadata": {},
   "source": [
    "## Functions"
   ]
  },
  {
   "cell_type": "code",
<<<<<<< HEAD
   "execution_count": 12,
=======
   "execution_count": 2,
>>>>>>> 554d0bd5fbbd76efafccfe587c10f9a832c5a398
   "metadata": {},
   "outputs": [],
   "source": [
    "def days_to_collect(start, end, frequency):\n",
    "    '''\n",
    "    will return an array starting at midnight of desired date to last frequency hour of end date\n",
    "    start = start date\n",
    "    end = end date\n",
    "    frequency = number of hours to step by per day. For example frequency = 12, will collect twice: at midnight and noon\n",
    "    '''\n",
    "    # add one day for right_side border case\n",
    "    # pd.date_range only allows dates, use rounding dates and closed='right' to get desired dates\n",
    "    #print(start, end)\n",
    "    start = datetime.datetime.strptime(start, '%Y-%m-%d') - datetime.timedelta(days=0, hours=int(frequency))\n",
    "    end = datetime.datetime.strptime(end, '%Y-%m-%d') + datetime.timedelta(days=1, hours=0)\n",
    "    #print(start, end)\n",
    "    dates = pd.date_range(start=start, end=end, freq=frequency+'H', closed='left')\n",
    "    formatted_dates = [ datetime.datetime.strftime(t, '%Y%m%d%H%M') for t in dates ]\n",
    "    #print(formatted_dates)\n",
    "    return formatted_dates\n",
    "\n",
    "def collect_tweets(from_date, to_date, max_results):\n",
    "    # maxResults is capped at 100 for sandbox account, even though there should be a next function to get more, it \n",
    "    # appears max_results=500 is accepted without any extra work\n",
    "    # date format: YYYY-mm-DD HH:MM\n",
    "    # from_date is inclusive. to_date is non-inclusive. Appears to start at from_date and start collecting tweets working\n",
    "    # backwards to to_date\n",
    "    bitcoin_rule = gen_rule_payload(\"bitcoin\", results_per_call=100, from_date=from_date, to_date=to_date) \n",
    "    print(bitcoin_rule)\n",
    "    collected_tweets = collect_results(bitcoin_rule, max_results=max_results, result_stream_args=premium_search_args)\n",
    "    return collected_tweets"
   ]
  },
  {
   "cell_type": "markdown",
   "metadata": {},
   "source": [
    "## Dates"
   ]
  },
  {
   "cell_type": "code",
<<<<<<< HEAD
   "execution_count": 13,
=======
   "execution_count": 8,
>>>>>>> 554d0bd5fbbd76efafccfe587c10f9a832c5a398
   "metadata": {
    "scrolled": true
   },
   "outputs": [
    {
     "name": "stdout",
     "output_type": "stream",
     "text": [
      "The intra-day hour interval is set to 24 Edit the code if desired to change this\n",
      "The number of tweets per interval is set to 100 Edit the code if desired to change this\n",
      "please input two dates in the format below to collect dates\n",
      "\t 2018-10-11 2018-10-15 \n",
      "\n",
<<<<<<< HEAD
      "\t2019-02-16 2019-02-18\n",
=======
      "\t2018-08-05 2018-08-31\n",
>>>>>>> 554d0bd5fbbd76efafccfe587c10f9a832c5a398
      "\n",
      "will use full-archive dev environment\n",
      "\n",
<<<<<<< HEAD
      "twitter recognized dates will be collected on the closed iterval from 2019-02-16 to 2019-02-18 spaced in 24 hour intervals\n"
=======
      "twitter recognized dates will be collected on the closed iterval from 2018-08-05 to 2018-08-31 spaced in 24 hour intervals\n"
>>>>>>> 554d0bd5fbbd76efafccfe587c10f9a832c5a398
     ]
    }
   ],
   "source": [
    "example_start_date = '2018-10-11'\n",
    "example_end_date = '2018-10-15'\n",
    "interval = 24\n",
    "results_per_call=100\n",
    "max_results = 100\n",
    "\n",
    "print(\"The intra-day hour interval is set to\", interval, \"Edit the code if desired to change this\")\n",
    "print(\"The number of tweets per interval is set to\", max_results, \"Edit the code if desired to change this\")\n",
    "print(\"please input two dates in the format below to collect dates\\n\\t\", example_start_date, example_end_date, \"\\n\")\n",
    "user_dates = input(\"\\t\")\n",
    "print()\n",
    "start_date, end_date = user_dates.split(' ')\n",
    "test_dates = days_to_collect(start_date, end_date, str(interval))\n",
    "\n",
    "if (datetime.datetime.fromtimestamp(time.time()) - datetime.datetime.strptime(start_date, '%Y-%m-%d')).days < 30:\n",
    "    premium_search_args = premium_search_args_30day\n",
    "    print(\"will use 30-day dev environment\")\n",
    "else:\n",
    "    premium_search_args = premium_search_args_fullarchive\n",
    "    print(\"will use full-archive dev environment\")\n",
    "    \n",
    "print(\"\\ntwitter recognized dates will be collected on the closed iterval from\", start_date, \"to\", end_date, \"spaced in\", str(interval), \"hour intervals\")"
   ]
  },
  {
   "cell_type": "markdown",
   "metadata": {},
   "source": [
    "## Twitter call"
   ]
  },
  {
   "cell_type": "code",
<<<<<<< HEAD
   "execution_count": 14,
=======
   "execution_count": 10,
>>>>>>> 554d0bd5fbbd76efafccfe587c10f9a832c5a398
   "metadata": {
    "scrolled": false
   },
   "outputs": [
    {
     "name": "stdout",
     "output_type": "stream",
     "text": [
<<<<<<< HEAD
      "{\"query\": \"bitcoin\", \"maxResults\": 100, \"toDate\": \"201902160000\", \"fromDate\": \"201902150000\"}\n",
      "{\"query\": \"bitcoin\", \"maxResults\": 100, \"toDate\": \"201902170000\", \"fromDate\": \"201902160000\"}\n",
      "{\"query\": \"bitcoin\", \"maxResults\": 100, \"toDate\": \"201902180000\", \"fromDate\": \"201902170000\"}\n"
=======
      "{\"query\": \"bitcoin\", \"maxResults\": 100, \"toDate\": \"201808050000\", \"fromDate\": \"201808040000\"}\n",
      "{\"query\": \"bitcoin\", \"maxResults\": 100, \"toDate\": \"201808060000\", \"fromDate\": \"201808050000\"}\n",
      "{\"query\": \"bitcoin\", \"maxResults\": 100, \"toDate\": \"201808070000\", \"fromDate\": \"201808060000\"}\n",
      "{\"query\": \"bitcoin\", \"maxResults\": 100, \"toDate\": \"201808080000\", \"fromDate\": \"201808070000\"}\n",
      "{\"query\": \"bitcoin\", \"maxResults\": 100, \"toDate\": \"201808090000\", \"fromDate\": \"201808080000\"}\n",
      "{\"query\": \"bitcoin\", \"maxResults\": 100, \"toDate\": \"201808100000\", \"fromDate\": \"201808090000\"}\n",
      "{\"query\": \"bitcoin\", \"maxResults\": 100, \"toDate\": \"201808110000\", \"fromDate\": \"201808100000\"}\n",
      "{\"query\": \"bitcoin\", \"maxResults\": 100, \"toDate\": \"201808120000\", \"fromDate\": \"201808110000\"}\n",
      "{\"query\": \"bitcoin\", \"maxResults\": 100, \"toDate\": \"201808130000\", \"fromDate\": \"201808120000\"}\n",
      "{\"query\": \"bitcoin\", \"maxResults\": 100, \"toDate\": \"201808140000\", \"fromDate\": \"201808130000\"}\n",
      "waiting 2 seconds\n",
      "{\"query\": \"bitcoin\", \"maxResults\": 100, \"toDate\": \"201808150000\", \"fromDate\": \"201808140000\"}\n",
      "{\"query\": \"bitcoin\", \"maxResults\": 100, \"toDate\": \"201808160000\", \"fromDate\": \"201808150000\"}\n",
      "{\"query\": \"bitcoin\", \"maxResults\": 100, \"toDate\": \"201808170000\", \"fromDate\": \"201808160000\"}\n",
      "{\"query\": \"bitcoin\", \"maxResults\": 100, \"toDate\": \"201808180000\", \"fromDate\": \"201808170000\"}\n",
      "{\"query\": \"bitcoin\", \"maxResults\": 100, \"toDate\": \"201808190000\", \"fromDate\": \"201808180000\"}\n",
      "{\"query\": \"bitcoin\", \"maxResults\": 100, \"toDate\": \"201808200000\", \"fromDate\": \"201808190000\"}\n",
      "{\"query\": \"bitcoin\", \"maxResults\": 100, \"toDate\": \"201808210000\", \"fromDate\": \"201808200000\"}\n",
      "{\"query\": \"bitcoin\", \"maxResults\": 100, \"toDate\": \"201808220000\", \"fromDate\": \"201808210000\"}\n",
      "{\"query\": \"bitcoin\", \"maxResults\": 100, \"toDate\": \"201808230000\", \"fromDate\": \"201808220000\"}\n",
      "{\"query\": \"bitcoin\", \"maxResults\": 100, \"toDate\": \"201808240000\", \"fromDate\": \"201808230000\"}\n",
      "waiting 60 seconds\n",
      "{\"query\": \"bitcoin\", \"maxResults\": 100, \"toDate\": \"201808250000\", \"fromDate\": \"201808240000\"}\n",
      "{\"query\": \"bitcoin\", \"maxResults\": 100, \"toDate\": \"201808260000\", \"fromDate\": \"201808250000\"}\n",
      "{\"query\": \"bitcoin\", \"maxResults\": 100, \"toDate\": \"201808270000\", \"fromDate\": \"201808260000\"}\n",
      "{\"query\": \"bitcoin\", \"maxResults\": 100, \"toDate\": \"201808280000\", \"fromDate\": \"201808270000\"}\n",
      "{\"query\": \"bitcoin\", \"maxResults\": 100, \"toDate\": \"201808290000\", \"fromDate\": \"201808280000\"}\n",
      "{\"query\": \"bitcoin\", \"maxResults\": 100, \"toDate\": \"201808300000\", \"fromDate\": \"201808290000\"}\n",
      "{\"query\": \"bitcoin\", \"maxResults\": 100, \"toDate\": \"201808310000\", \"fromDate\": \"201808300000\"}\n"
>>>>>>> 554d0bd5fbbd76efafccfe587c10f9a832c5a398
     ]
    }
   ],
   "source": [
    "tweets = []\n",
    "for i in range(0,len(test_dates[:-1])):\n",
    "    tweets = np.append(tweets, collect_tweets(test_dates[i], test_dates[i+1], max_results=max_results))\n",
    "    \n",
    "    # Requests are limited to 30 per minute for sandbox, 60 for subscriptions \n",
    "    # Requests are limited to 10 per second\n",
    "    num_calls = (i + 1) * max_results//results_per_call\n",
    "    if num_calls % 10 == 0 and num_calls % 20 != 0:\n",
    "        print(\"waiting 2 seconds\")\n",
    "        time.sleep(2)\n",
    "    if num_calls % 20 == 0:\n",
    "        print(\"waiting 60 seconds\")\n",
    "        time.sleep(60)"
   ]
  },
  {
   "cell_type": "code",
<<<<<<< HEAD
   "execution_count": 15,
   "metadata": {
    "scrolled": true
   },
   "outputs": [
    {
     "ename": "TypeError",
     "evalue": "'tuple' object is not callable",
     "output_type": "error",
     "traceback": [
      "\u001b[0;31m---------------------------------------------------------------------------\u001b[0m",
      "\u001b[0;31mTypeError\u001b[0m                                 Traceback (most recent call last)",
      "\u001b[0;32m<ipython-input-15-727a23f4a713>\u001b[0m in \u001b[0;36m<module>\u001b[0;34m\u001b[0m\n\u001b[1;32m      1\u001b[0m \u001b[0mtweets\u001b[0m\u001b[0;34m[\u001b[0m\u001b[0;34m-\u001b[0m\u001b[0;36m1\u001b[0m\u001b[0;34m]\u001b[0m\u001b[0;34m\u001b[0m\u001b[0;34m\u001b[0m\u001b[0m\n\u001b[0;32m----> 2\u001b[0;31m \u001b[0mtweets\u001b[0m\u001b[0;34m.\u001b[0m\u001b[0mshape\u001b[0m\u001b[0;34m(\u001b[0m\u001b[0;34m)\u001b[0m\u001b[0;34m\u001b[0m\u001b[0;34m\u001b[0m\u001b[0m\n\u001b[0m",
      "\u001b[0;31mTypeError\u001b[0m: 'tuple' object is not callable"
     ]
    }
   ],
   "source": [
    "tweets[-1]\n",
    "tweets.shape()"
=======
   "execution_count": 26,
   "metadata": {},
   "outputs": [
    {
     "data": {
      "text/plain": [
       "array([{'created_at': 'Tue Jul 31 23:56:04 +0000 2018', 'id': 1024443611734142976, 'id_str': '1024443611734142976', 'text': '#RideTheWave https://t.co/Lh1XSy4iEi', 'source': '<a href=\"http://twitter.com\" rel=\"nofollow\">Twitter Web Client</a>', 'truncated': False, 'in_reply_to_status_id': None, 'in_reply_to_status_id_str': None, 'in_reply_to_user_id': None, 'in_reply_to_user_id_str': None, 'in_reply_to_screen_name': None, 'user': {'id': 969018748563734528, 'id_str': '969018748563734528', 'name': \"HBUS (Huobi's U.S. Partner)\", 'screen_name': 'HBUSofficial', 'location': 'San Francisco, CA', 'url': 'http://bit.ly/2vudREy', 'description': 'More Tokens. More Rewards. Sign up and start trading: https://www.hbus.com/', 'translator_type': 'none', 'protected': False, 'verified': False, 'followers_count': 6473, 'friends_count': 15, 'listed_count': 28, 'favourites_count': 855, 'statuses_count': 669, 'created_at': 'Thu Mar 01 01:17:27 +0000 2018', 'utc_offset': None, 'time_zone': None, 'geo_enabled': False, 'lang': 'en', 'contributors_enabled': False, 'is_translator': False, 'profile_background_color': '000000', 'profile_background_image_url': 'http://abs.twimg.com/images/themes/theme1/bg.png', 'profile_background_image_url_https': 'https://abs.twimg.com/images/themes/theme1/bg.png', 'profile_background_tile': False, 'profile_link_color': '1B95E0', 'profile_sidebar_border_color': '000000', 'profile_sidebar_fill_color': '000000', 'profile_text_color': '000000', 'profile_use_background_image': False, 'profile_image_url': 'http://pbs.twimg.com/profile_images/997179896005734400/Nx9VFELE_normal.jpg', 'profile_image_url_https': 'https://pbs.twimg.com/profile_images/997179896005734400/Nx9VFELE_normal.jpg', 'profile_banner_url': 'https://pbs.twimg.com/profile_banners/969018748563734528/1534977114', 'default_profile': False, 'default_profile_image': False, 'following': None, 'follow_request_sent': None, 'notifications': None}, 'geo': None, 'coordinates': None, 'place': None, 'contributors': None, 'is_quote_status': False, 'quote_count': 0, 'reply_count': 0, 'retweet_count': 3, 'favorite_count': 4, 'entities': {'hashtags': [{'text': 'RideTheWave', 'indices': [0, 12]}], 'urls': [{'url': 'https://t.co/Lh1XSy4iEi', 'expanded_url': 'https://news.bitcoin.com/75-millennials-likely-date-someone-bitcoin/', 'display_url': 'news.bitcoin.com/75-millennials…', 'indices': [13, 36]}], 'user_mentions': [], 'symbols': []}, 'favorited': False, 'retweeted': False, 'possibly_sensitive': False, 'filter_level': 'low', 'lang': 'und', 'matching_rules': [{'tag': None}]},\n",
       "       {'created_at': 'Tue Jul 31 23:56:04 +0000 2018', 'id': 1024443609205170176, 'id_str': '1024443609205170176', 'text': 'Gibraltar United, el primer club que pagará en criptomonedas a sus ... - Univision https://t.co/27XrZj35rD… https://t.co/Pg7IEkCAPy', 'source': '<a href=\"https://ifttt.com\" rel=\"nofollow\">IFTTT</a>', 'truncated': True, 'in_reply_to_status_id': None, 'in_reply_to_status_id_str': None, 'in_reply_to_user_id': None, 'in_reply_to_user_id_str': None, 'in_reply_to_screen_name': None, 'user': {'id': 350521126, 'id_str': '350521126', 'name': 'Pantalla Tech', 'screen_name': 'PantallaTech', 'location': 'Planeta Tierra.....', 'url': 'http://www.tecnologia-global.com', 'description': '* Tecnología, Entretenimiento, Deporte *', 'translator_type': 'none', 'protected': False, 'verified': False, 'followers_count': 2046, 'friends_count': 2794, 'listed_count': 225, 'favourites_count': 168, 'statuses_count': 96714, 'created_at': 'Sun Aug 07 22:31:32 +0000 2011', 'utc_offset': None, 'time_zone': None, 'geo_enabled': True, 'lang': 'es', 'contributors_enabled': False, 'is_translator': False, 'profile_background_color': '003366', 'profile_background_image_url': 'http://abs.twimg.com/images/themes/theme14/bg.gif', 'profile_background_image_url_https': 'https://abs.twimg.com/images/themes/theme14/bg.gif', 'profile_background_tile': True, 'profile_link_color': '3B94D9', 'profile_sidebar_border_color': 'FFFFFF', 'profile_sidebar_fill_color': 'EFEFEF', 'profile_text_color': '333333', 'profile_use_background_image': True, 'profile_image_url': 'http://pbs.twimg.com/profile_images/552170641231601664/4ZLee7_r_normal.jpeg', 'profile_image_url_https': 'https://pbs.twimg.com/profile_images/552170641231601664/4ZLee7_r_normal.jpeg', 'profile_banner_url': 'https://pbs.twimg.com/profile_banners/350521126/1403895609', 'default_profile': False, 'default_profile_image': False, 'following': None, 'follow_request_sent': None, 'notifications': None}, 'geo': None, 'coordinates': None, 'place': None, 'contributors': None, 'is_quote_status': False, 'extended_tweet': {'full_text': 'Gibraltar United, el primer club que pagará en criptomonedas a sus ... - Univision https://t.co/27XrZj35rD #Criptomonedas #Bitcoin #AltCoins #Finanzas #Internet #Noticias', 'display_text_range': [0, 170], 'entities': {'hashtags': [{'text': 'Criptomonedas', 'indices': [107, 121]}, {'text': 'Bitcoin', 'indices': [122, 130]}, {'text': 'AltCoins', 'indices': [131, 140]}, {'text': 'Finanzas', 'indices': [141, 150]}, {'text': 'Internet', 'indices': [151, 160]}, {'text': 'Noticias', 'indices': [161, 170]}], 'urls': [{'url': 'https://t.co/27XrZj35rD', 'expanded_url': 'http://bit.ly/n_Criptomonedas', 'display_url': 'bit.ly/n_Criptomonedas', 'indices': [83, 106]}], 'user_mentions': [], 'symbols': []}}, 'quote_count': 0, 'reply_count': 0, 'retweet_count': 0, 'favorite_count': 0, 'entities': {'hashtags': [], 'urls': [{'url': 'https://t.co/27XrZj35rD', 'expanded_url': 'http://bit.ly/n_Criptomonedas', 'display_url': 'bit.ly/n_Criptomonedas', 'indices': [83, 106]}, {'url': 'https://t.co/Pg7IEkCAPy', 'expanded_url': 'https://twitter.com/i/web/status/1024443609205170176', 'display_url': 'twitter.com/i/web/status/1…', 'indices': [108, 131]}], 'user_mentions': [], 'symbols': []}, 'favorited': False, 'retweeted': False, 'possibly_sensitive': False, 'filter_level': 'low', 'lang': 'es', 'matching_rules': [{'tag': None}]}],\n",
       "      dtype=object)"
      ]
     },
     "execution_count": 26,
     "metadata": {},
     "output_type": "execute_result"
    }
   ],
   "source": [
    "tweets4[0:2]"
>>>>>>> 554d0bd5fbbd76efafccfe587c10f9a832c5a398
   ]
  },
  {
   "cell_type": "markdown",
   "metadata": {},
   "source": [
    "## To dataframe and csv"
   ]
  },
  {
   "cell_type": "code",
<<<<<<< HEAD
   "execution_count": 16,
=======
   "execution_count": 31,
>>>>>>> 554d0bd5fbbd76efafccfe587c10f9a832c5a398
   "metadata": {
    "scrolled": true
   },
   "outputs": [],
   "source": [
    "def to_df(tweets):\n",
    "    # create a pandas df from tweets\n",
    "    S2 = pd.DataFrame(columns=['tweets', 'date', 'user_name', 'user_screen_name', 'user_followers', \n",
    "                           'user_friends', 'user_verified', 'user_language', 'retweet_count', 'favorite_count'])\n",
    "\n",
    "    for i, tweet in enumerate(tweets):\n",
    "        S2.loc[i] = [tweet['text'], \n",
    "                     tweet['created_at'], \n",
    "                     tweet['user']['name'], \n",
    "                     tweet['user']['screen_name'], \n",
    "                     tweet['user']['followers_count'], \n",
    "                     tweet['user']['friends_count'], \n",
    "                     tweet['user']['verified'], \n",
    "                     tweet['user']['lang'], \n",
    "                     tweet['retweet_count'], \n",
    "                     tweet['favorite_count']] \n",
    "    return S2\n",
    "\n",
    "S2 = to_df(tweets)\n",
    "S3 = to_df(tweets_0801_0804)"
   ]
  },
  {
   "cell_type": "code",
<<<<<<< HEAD
   "execution_count": 17,
=======
   "execution_count": 32,
>>>>>>> 554d0bd5fbbd76efafccfe587c10f9a832c5a398
   "metadata": {},
   "outputs": [
    {
     "data": {
      "text/html": [
       "<div>\n",
       "<style scoped>\n",
       "    .dataframe tbody tr th:only-of-type {\n",
       "        vertical-align: middle;\n",
       "    }\n",
       "\n",
       "    .dataframe tbody tr th {\n",
       "        vertical-align: top;\n",
       "    }\n",
       "\n",
       "    .dataframe thead th {\n",
       "        text-align: right;\n",
       "    }\n",
       "</style>\n",
       "<table border=\"1\" class=\"dataframe\">\n",
       "  <thead>\n",
       "    <tr style=\"text-align: right;\">\n",
       "      <th></th>\n",
       "      <th>tweets</th>\n",
       "      <th>date</th>\n",
       "      <th>user_name</th>\n",
       "      <th>user_screen_name</th>\n",
       "      <th>user_followers</th>\n",
       "      <th>user_friends</th>\n",
       "      <th>user_verified</th>\n",
       "      <th>user_language</th>\n",
       "      <th>retweet_count</th>\n",
       "      <th>favorite_count</th>\n",
       "    </tr>\n",
       "  </thead>\n",
       "  <tbody>\n",
       "    <tr>\n",
<<<<<<< HEAD
       "      <th>295</th>\n",
       "      <td>RT @coindesk: A new proposed exchange-traded f...</td>\n",
       "      <td>Sun Feb 17 23:59:49 +0000 2019</td>\n",
       "      <td>Derek Sears</td>\n",
       "      <td>dereksears</td>\n",
       "      <td>226</td>\n",
       "      <td>1707</td>\n",
=======
       "      <th>2695</th>\n",
       "      <td>bitcoin</td>\n",
       "      <td>Thu Aug 30 23:59:53 +0000 2018</td>\n",
       "      <td>hazqiyal</td>\n",
       "      <td>hazqiyal</td>\n",
       "      <td>96</td>\n",
       "      <td>730</td>\n",
>>>>>>> 554d0bd5fbbd76efafccfe587c10f9a832c5a398
       "      <td>False</td>\n",
       "      <td>en</td>\n",
       "      <td>0</td>\n",
       "      <td>0</td>\n",
       "    </tr>\n",
       "    <tr>\n",
<<<<<<< HEAD
       "      <th>296</th>\n",
       "      <td>2015 Lambo Huracan costs $175k or 46.84  BTC t...</td>\n",
       "      <td>Sun Feb 17 23:59:50 +0000 2019</td>\n",
       "      <td>LamboBTC</td>\n",
       "      <td>LamboBTC</td>\n",
       "      <td>30</td>\n",
       "      <td>15</td>\n",
=======
       "      <th>2696</th>\n",
       "      <td>RT @MyCIPlatform: If theres anything you want ...</td>\n",
       "      <td>Thu Aug 30 23:59:55 +0000 2018</td>\n",
       "      <td>MoonFlowCrypto</td>\n",
       "      <td>moonflowcrypto</td>\n",
       "      <td>23</td>\n",
       "      <td>89</td>\n",
>>>>>>> 554d0bd5fbbd76efafccfe587c10f9a832c5a398
       "      <td>False</td>\n",
       "      <td>en</td>\n",
       "      <td>0</td>\n",
       "      <td>0</td>\n",
       "    </tr>\n",
       "    <tr>\n",
<<<<<<< HEAD
       "      <th>297</th>\n",
       "      <td>#BeLLCoin #BeLLPlatform #BeLLDEX #blockchain #...</td>\n",
       "      <td>Sun Feb 17 23:59:52 +0000 2019</td>\n",
       "      <td>imam</td>\n",
       "      <td>imam79726953</td>\n",
       "      <td>2610</td>\n",
       "      <td>3352</td>\n",
=======
       "      <th>2697</th>\n",
       "      <td>RT @CalvinAyre: This is also big news...Bitcoi...</td>\n",
       "      <td>Thu Aug 30 23:59:58 +0000 2018</td>\n",
       "      <td>Gaurav Saxena</td>\n",
       "      <td>GauravSaxenaIND</td>\n",
       "      <td>264</td>\n",
       "      <td>49</td>\n",
>>>>>>> 554d0bd5fbbd76efafccfe587c10f9a832c5a398
       "      <td>False</td>\n",
       "      <td>id</td>\n",
       "      <td>0</td>\n",
       "      <td>1</td>\n",
       "    </tr>\n",
       "    <tr>\n",
<<<<<<< HEAD
       "      <th>298</th>\n",
       "      <td>RT @BitcoinEdu: Found this at waves coffee in ...</td>\n",
       "      <td>Sun Feb 17 23:59:56 +0000 2019</td>\n",
       "      <td>World Trade Stocks</td>\n",
       "      <td>Wall_Streets</td>\n",
       "      <td>2494</td>\n",
       "      <td>1536</td>\n",
       "      <td>False</td>\n",
       "      <td>en</td>\n",
       "      <td>0</td>\n",
       "      <td>0</td>\n",
       "    </tr>\n",
       "    <tr>\n",
       "      <th>299</th>\n",
       "      <td>RT @TheStalwart: Bitcoin is dead https://t.co/...</td>\n",
       "      <td>Sun Feb 17 23:59:57 +0000 2019</td>\n",
       "      <td>Ibrahim Ali Mansour</td>\n",
       "      <td>imansourx</td>\n",
       "      <td>57</td>\n",
       "      <td>135</td>\n",
=======
       "      <th>2698</th>\n",
       "      <td>#Bitcoin #crypto #vet\\n\\nImagine calling a 99 ...</td>\n",
       "      <td>Thu Aug 30 23:59:59 +0000 2018</td>\n",
       "      <td>Bull Of Bitcoin</td>\n",
       "      <td>Bull0fBitcoin</td>\n",
       "      <td>3728</td>\n",
       "      <td>134</td>\n",
       "      <td>False</td>\n",
       "      <td>en</td>\n",
       "      <td>0</td>\n",
       "      <td>1</td>\n",
       "    </tr>\n",
       "    <tr>\n",
       "      <th>2699</th>\n",
       "      <td>Just wanted to share My 2 Bitcents, a quick su...</td>\n",
       "      <td>Thu Aug 30 23:53:50 +0000 2018</td>\n",
       "      <td>Gabriel Sukenik</td>\n",
       "      <td>GabeCoin</td>\n",
       "      <td>1496</td>\n",
       "      <td>2045</td>\n",
>>>>>>> 554d0bd5fbbd76efafccfe587c10f9a832c5a398
       "      <td>False</td>\n",
       "      <td>en</td>\n",
       "      <td>2</td>\n",
       "      <td>4</td>\n",
       "    </tr>\n",
       "  </tbody>\n",
       "</table>\n",
       "</div>"
      ],
      "text/plain": [
<<<<<<< HEAD
       "                                                tweets  \\\n",
       "295  RT @coindesk: A new proposed exchange-traded f...   \n",
       "296  2015 Lambo Huracan costs $175k or 46.84  BTC t...   \n",
       "297  #BeLLCoin #BeLLPlatform #BeLLDEX #blockchain #...   \n",
       "298  RT @BitcoinEdu: Found this at waves coffee in ...   \n",
       "299  RT @TheStalwart: Bitcoin is dead https://t.co/...   \n",
       "\n",
       "                               date            user_name user_screen_name  \\\n",
       "295  Sun Feb 17 23:59:49 +0000 2019          Derek Sears       dereksears   \n",
       "296  Sun Feb 17 23:59:50 +0000 2019             LamboBTC         LamboBTC   \n",
       "297  Sun Feb 17 23:59:52 +0000 2019                 imam     imam79726953   \n",
       "298  Sun Feb 17 23:59:56 +0000 2019   World Trade Stocks     Wall_Streets   \n",
       "299  Sun Feb 17 23:59:57 +0000 2019  Ibrahim Ali Mansour        imansourx   \n",
       "\n",
       "    user_followers user_friends user_verified user_language retweet_count  \\\n",
       "295            226         1707         False            en             0   \n",
       "296             30           15         False            en             0   \n",
       "297           2610         3352         False            id             0   \n",
       "298           2494         1536         False            en             0   \n",
       "299             57          135         False            en             0   \n",
       "\n",
       "    favorite_count  \n",
       "295              0  \n",
       "296              0  \n",
       "297              1  \n",
       "298              0  \n",
       "299              0  "
      ]
     },
     "execution_count": 17,
=======
       "                                                 tweets  \\\n",
       "2695                                            bitcoin   \n",
       "2696  RT @MyCIPlatform: If theres anything you want ...   \n",
       "2697  RT @CalvinAyre: This is also big news...Bitcoi...   \n",
       "2698  #Bitcoin #crypto #vet\\n\\nImagine calling a 99 ...   \n",
       "2699  Just wanted to share My 2 Bitcents, a quick su...   \n",
       "\n",
       "                                date        user_name user_screen_name  \\\n",
       "2695  Thu Aug 30 23:59:53 +0000 2018         hazqiyal         hazqiyal   \n",
       "2696  Thu Aug 30 23:59:55 +0000 2018   MoonFlowCrypto   moonflowcrypto   \n",
       "2697  Thu Aug 30 23:59:58 +0000 2018    Gaurav Saxena  GauravSaxenaIND   \n",
       "2698  Thu Aug 30 23:59:59 +0000 2018  Bull Of Bitcoin    Bull0fBitcoin   \n",
       "2699  Thu Aug 30 23:53:50 +0000 2018  Gabriel Sukenik         GabeCoin   \n",
       "\n",
       "     user_followers user_friends user_verified user_language retweet_count  \\\n",
       "2695             96          730         False            en             0   \n",
       "2696             23           89         False            en             0   \n",
       "2697            264           49         False            en             0   \n",
       "2698           3728          134         False            en             0   \n",
       "2699           1496         2045         False            en             2   \n",
       "\n",
       "     favorite_count  \n",
       "2695              0  \n",
       "2696              0  \n",
       "2697              0  \n",
       "2698              1  \n",
       "2699              4  "
      ]
     },
     "execution_count": 32,
>>>>>>> 554d0bd5fbbd76efafccfe587c10f9a832c5a398
     "metadata": {},
     "output_type": "execute_result"
    }
   ],
   "source": [
    "S2.tail()"
   ]
  },
  {
   "cell_type": "code",
<<<<<<< HEAD
   "execution_count": 18,
=======
   "execution_count": 45,
>>>>>>> 554d0bd5fbbd76efafccfe587c10f9a832c5a398
   "metadata": {},
   "outputs": [
    {
     "name": "stdout",
     "output_type": "stream",
     "text": [
<<<<<<< HEAD
      "saved files complete_tweets/tweets_2019-02-16_2019-02-18_Tweets.csv and complete_tweets/tweets_2019-02-16_2019-02-18_Metadata.csv\n"
=======
      "saved files complete_tweets/tweets_2018-08-01_2018-08-31_Tweets.csv and complete_tweets/tweets_2018-08-01_2018-08-31_Metadata.csv\n"
>>>>>>> 554d0bd5fbbd76efafccfe587c10f9a832c5a398
     ]
    }
   ],
   "source": [
    "# save file to csv\n",
    "S2_tweets = S2.loc[:,['tweets']]\n",
    "S2_meta = S2.drop(['tweets'], axis=1)\n",
    "\n",
    "filename = 'complete_tweets/tweets_' + start_date + '_' + end_date\n",
    "S2_tweets.to_csv(filename + '_Tweets.csv', index=False)\n",
    "S2_meta.to_csv(filename + '_Metadata.csv', index=False)\n",
    "print('saved files', filename + '_Tweets.csv', 'and', filename + '_Metadata.csv')"
   ]
  },
  {
   "cell_type": "code",
   "execution_count": 2,
   "metadata": {},
   "outputs": [
    {
     "data": {
      "text/plain": [
       "'/Users/m2/anaconda3/bin/python'"
      ]
     },
     "execution_count": 2,
     "metadata": {},
     "output_type": "execute_result"
    }
   ],
   "source": [
    "import sys\n",
    "sys.executable\n",
    "# sys.path"
   ]
  },
  {
   "cell_type": "code",
   "execution_count": null,
   "metadata": {},
   "outputs": [],
   "source": []
  }
 ],
 "metadata": {
  "kernelspec": {
   "display_name": "Python 3",
   "language": "python",
   "name": "python3"
  },
  "language_info": {
   "codemirror_mode": {
    "name": "ipython",
    "version": 3
   },
   "file_extension": ".py",
   "mimetype": "text/x-python",
   "name": "python",
   "nbconvert_exporter": "python",
   "pygments_lexer": "ipython3",
   "version": "3.7.2"
  }
 },
 "nbformat": 4,
 "nbformat_minor": 2
}
