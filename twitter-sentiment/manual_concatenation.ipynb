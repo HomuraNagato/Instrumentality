{
 "cells": [
  {
   "cell_type": "markdown",
   "metadata": {},
   "source": [
    "## Concat metadata into monthly files"
   ]
  },
  {
   "cell_type": "code",
   "execution_count": 1,
   "metadata": {},
   "outputs": [],
   "source": [
    "# general imports\n",
    "import numpy as np\n",
    "import pandas as pd\n",
    "import subprocess\n",
    "import re\n",
    "pd.set_option('display.max_rows', 500)"
   ]
  },
  {
   "cell_type": "code",
   "execution_count": 2,
   "metadata": {},
   "outputs": [],
   "source": [
    "def concat_metadata(file_meta, file_tweet):\n",
    "    S2_concat = pd.DataFrame()\n",
    "    if file_tweet == \"\":\n",
    "        S2_concat = pd.read_csv('complete_tweets/' + file_meta, parse_dates=['date'], encoding='latin')\n",
    "    else:\n",
    "        S2_meta = pd.read_csv('complete_tweets/' + file_meta, parse_dates=['date'], encoding='latin')\n",
    "        S2_tweet = pd.read_csv('complete_tweets/' + file_tweet, encoding='latin')\n",
    "        S2_concat = pd.concat([S2_tweet, S2_meta], axis=1)\n",
    "    return S2_concat\n",
    "\n",
    "def append_metadata(file_A, file_B):\n",
    "    return pd.concat([file_A, file_B], axis=0)\n",
    "\n",
    "def write_csv(S2_write, filename):\n",
    "    S2_write.to_csv('complete_tweets/' + filename, index=False)\n",
    "\n",
    "def groupby_hour(S2):\n",
    "    S2['rounded_hour'] = S2['date'].dt.round('H')\n",
    "    return S2"
   ]
  },
  {
   "cell_type": "markdown",
   "metadata": {},
   "source": [
    "### September"
   ]
  },
  {
   "cell_type": "code",
   "execution_count": 3,
   "metadata": {},
   "outputs": [],
   "source": [
    "sept_former = concat_metadata(\"tweets_2018-09-01_2018-09-15_Metadata.csv\", \n",
    "                             \"tweets_2018-09-01_2018-09-15_Tweets.csv\")\n",
    "sept_latter = concat_metadata(\"tweets_2018-09-16_2018-09-30.csv\", \"\")"
   ]
  },
  {
   "cell_type": "code",
   "execution_count": 4,
   "metadata": {},
   "outputs": [
    {
     "data": {
      "text/plain": [
       "((1500, 10), (1500, 10))"
      ]
     },
     "execution_count": 4,
     "metadata": {},
     "output_type": "execute_result"
    }
   ],
   "source": [
    "sept_former.shape, sept_latter.shape"
   ]
  },
  {
   "cell_type": "code",
   "execution_count": 5,
   "metadata": {},
   "outputs": [],
   "source": [
    "sept = append_metadata(sept_former, sept_latter)"
   ]
  },
  {
   "cell_type": "code",
   "execution_count": 6,
   "metadata": {},
   "outputs": [
    {
     "data": {
      "text/plain": [
       "(3000, 10)"
      ]
     },
     "execution_count": 6,
     "metadata": {},
     "output_type": "execute_result"
    }
   ],
   "source": [
    "sept.shape"
   ]
  },
  {
   "cell_type": "code",
   "execution_count": 7,
   "metadata": {},
   "outputs": [
    {
     "data": {
      "text/html": [
       "<div>\n",
       "<style scoped>\n",
       "    .dataframe tbody tr th:only-of-type {\n",
       "        vertical-align: middle;\n",
       "    }\n",
       "\n",
       "    .dataframe tbody tr th {\n",
       "        vertical-align: top;\n",
       "    }\n",
       "\n",
       "    .dataframe thead th {\n",
       "        text-align: right;\n",
       "    }\n",
       "</style>\n",
       "<table border=\"1\" class=\"dataframe\">\n",
       "  <thead>\n",
       "    <tr style=\"text-align: right;\">\n",
       "      <th></th>\n",
       "      <th>tweets</th>\n",
       "      <th>date</th>\n",
       "      <th>user_name</th>\n",
       "      <th>user_screen_name</th>\n",
       "      <th>user_followers</th>\n",
       "      <th>user_friends</th>\n",
       "      <th>user_verified</th>\n",
       "      <th>user_language</th>\n",
       "      <th>retweet_count</th>\n",
       "      <th>favorite_count</th>\n",
       "    </tr>\n",
       "  </thead>\n",
       "  <tbody>\n",
       "    <tr>\n",
       "      <th>1495</th>\n",
       "      <td>** Les questions les plus posÃ©es sur le Bitco...</td>\n",
       "      <td>2018-09-29 23:55:15</td>\n",
       "      <td>Blockchain FR</td>\n",
       "      <td>blockchain__fr</td>\n",
       "      <td>795</td>\n",
       "      <td>1175</td>\n",
       "      <td>False</td>\n",
       "      <td>fr</td>\n",
       "      <td>0</td>\n",
       "      <td>0</td>\n",
       "    </tr>\n",
       "    <tr>\n",
       "      <th>1496</th>\n",
       "      <td>RT @BlockchainVoice: \"For instance, an art gal...</td>\n",
       "      <td>2018-09-29 23:55:15</td>\n",
       "      <td>Chicago Edge</td>\n",
       "      <td>chicagoedgeblog</td>\n",
       "      <td>659</td>\n",
       "      <td>360</td>\n",
       "      <td>False</td>\n",
       "      <td>en</td>\n",
       "      <td>0</td>\n",
       "      <td>0</td>\n",
       "    </tr>\n",
       "    <tr>\n",
       "      <th>1497</th>\n",
       "      <td>** Bitcoin : comment un spÃ©culateur perd 99,7...</td>\n",
       "      <td>2018-09-29 23:55:14</td>\n",
       "      <td>Blockchain FR</td>\n",
       "      <td>blockchain__fr</td>\n",
       "      <td>795</td>\n",
       "      <td>1175</td>\n",
       "      <td>False</td>\n",
       "      <td>fr</td>\n",
       "      <td>0</td>\n",
       "      <td>0</td>\n",
       "    </tr>\n",
       "    <tr>\n",
       "      <th>1498</th>\n",
       "      <td>Get Free Bitcoin        https://t.co/t0DhXKSM7V</td>\n",
       "      <td>2018-09-29 23:55:07</td>\n",
       "      <td>å¤§å±±ä¸é</td>\n",
       "      <td>twktter5042</td>\n",
       "      <td>2796</td>\n",
       "      <td>3587</td>\n",
       "      <td>False</td>\n",
       "      <td>ja</td>\n",
       "      <td>0</td>\n",
       "      <td>0</td>\n",
       "    </tr>\n",
       "    <tr>\n",
       "      <th>1499</th>\n",
       "      <td>Get Free Bitcoin        https://t.co/t0DhXKSM7V</td>\n",
       "      <td>2018-09-29 23:55:07</td>\n",
       "      <td>å¤§å±±ä¸é</td>\n",
       "      <td>twktter5042</td>\n",
       "      <td>2796</td>\n",
       "      <td>3587</td>\n",
       "      <td>False</td>\n",
       "      <td>ja</td>\n",
       "      <td>0</td>\n",
       "      <td>0</td>\n",
       "    </tr>\n",
       "  </tbody>\n",
       "</table>\n",
       "</div>"
      ],
      "text/plain": [
       "                                                 tweets                date  \\\n",
       "1495  ** Les questions les plus posÃ©es sur le Bitco... 2018-09-29 23:55:15   \n",
       "1496  RT @BlockchainVoice: \"For instance, an art gal... 2018-09-29 23:55:15   \n",
       "1497  ** Bitcoin : comment un spÃ©culateur perd 99,7... 2018-09-29 23:55:14   \n",
       "1498    Get Free Bitcoin        https://t.co/t0DhXKSM7V 2018-09-29 23:55:07   \n",
       "1499    Get Free Bitcoin        https://t.co/t0DhXKSM7V 2018-09-29 23:55:07   \n",
       "\n",
       "          user_name user_screen_name  user_followers  user_friends  \\\n",
       "1495  Blockchain FR   blockchain__fr             795          1175   \n",
       "1496   Chicago Edge  chicagoedgeblog             659           360   \n",
       "1497  Blockchain FR   blockchain__fr             795          1175   \n",
       "1498   å¤§å±±ä¸é      twktter5042            2796          3587   \n",
       "1499   å¤§å±±ä¸é      twktter5042            2796          3587   \n",
       "\n",
       "      user_verified user_language  retweet_count  favorite_count  \n",
       "1495          False            fr              0               0  \n",
       "1496          False            en              0               0  \n",
       "1497          False            fr              0               0  \n",
       "1498          False            ja              0               0  \n",
       "1499          False            ja              0               0  "
      ]
     },
     "execution_count": 7,
     "metadata": {},
     "output_type": "execute_result"
    }
   ],
   "source": [
    "sept.tail()"
   ]
  },
  {
   "cell_type": "code",
   "execution_count": 26,
   "metadata": {},
   "outputs": [],
   "source": [
    "write_csv(sept, \"complete_tweets_2018_09.csv\")"
   ]
  },
  {
   "cell_type": "markdown",
   "metadata": {},
   "source": [
    "### August"
   ]
  },
  {
   "cell_type": "code",
   "execution_count": 8,
   "metadata": {},
   "outputs": [],
   "source": [
    "aug = concat_metadata(\"tweets_2018-08-01_2018-08-31_Metadata.csv\", \n",
    "                             \"tweets_2018-08-01_2018-08-31_Tweets.csv\")"
   ]
  },
  {
   "cell_type": "code",
   "execution_count": 9,
   "metadata": {},
   "outputs": [
    {
     "data": {
      "text/plain": [
       "(3100, 10)"
      ]
     },
     "execution_count": 9,
     "metadata": {},
     "output_type": "execute_result"
    }
   ],
   "source": [
    "aug.shape"
   ]
  },
  {
   "cell_type": "code",
   "execution_count": 32,
   "metadata": {},
   "outputs": [],
   "source": [
    "write_csv(aug, \"complete_tweets_2018_08.csv\")"
   ]
  },
  {
   "cell_type": "markdown",
   "metadata": {},
   "source": [
    "### July"
   ]
  },
  {
   "cell_type": "code",
   "execution_count": 10,
   "metadata": {},
   "outputs": [],
   "source": [
    "june_jul = concat_metadata(\"tweets_2018-06-10_2018-07-29_Metadata.csv\",\n",
    "                      \"tweets_2018-06-10_2018-07-29_Tweets.csv\")\n",
    "jul_aug = concat_metadata(\"tweets_2018-07-30_2018-08-31_Metadata.csv\",\n",
    "                           \"tweets_2018-07-30_2018-08-31_Tweets.csv\")"
   ]
  },
  {
   "cell_type": "code",
   "execution_count": 11,
   "metadata": {},
   "outputs": [],
   "source": [
    "jul_former = june_jul.iloc[2100:5000,:]"
   ]
  },
  {
   "cell_type": "code",
   "execution_count": 12,
   "metadata": {},
   "outputs": [],
   "source": [
    "jul_last = jul_aug.iloc[:200,:]"
   ]
  },
  {
   "cell_type": "code",
   "execution_count": 13,
   "metadata": {},
   "outputs": [],
   "source": [
    "july = append_metadata(jul_former, jul_last)"
   ]
  },
  {
   "cell_type": "code",
   "execution_count": 14,
   "metadata": {},
   "outputs": [
    {
     "data": {
      "text/plain": [
       "(3100, 10)"
      ]
     },
     "execution_count": 14,
     "metadata": {},
     "output_type": "execute_result"
    }
   ],
   "source": [
    "july.shape"
   ]
  },
  {
   "cell_type": "code",
   "execution_count": 73,
   "metadata": {},
   "outputs": [],
   "source": [
    "write_csv(july, \"complete_tweets_2018_07.csv\")"
   ]
  },
  {
   "cell_type": "markdown",
   "metadata": {},
   "source": [
    "### June"
   ]
  },
  {
   "cell_type": "code",
   "execution_count": 15,
   "metadata": {},
   "outputs": [],
   "source": [
    "april_june = concat_metadata(\"tweets_2018-04-20_2018-06-06.csv\", \"\")\n",
    "june_middle = concat_metadata(\"tweets_2018-06-07_2018-06-08.csv\", \"\")\n",
    "june_jul_a = concat_metadata(\"tweets_2018-06-09_2018-07-16_Metadata.csv\", \n",
    "                          \"tweets_2018-06-09_2018-07-16_Tweets.csv\")"
   ]
  },
  {
   "cell_type": "code",
   "execution_count": 16,
   "metadata": {},
   "outputs": [],
   "source": [
    "june_former = april_june.iloc[4200:,:]"
   ]
  },
  {
   "cell_type": "code",
   "execution_count": 17,
   "metadata": {},
   "outputs": [],
   "source": [
    "june_09 = june_jul_a.iloc[:100,:]"
   ]
  },
  {
   "cell_type": "code",
   "execution_count": 18,
   "metadata": {},
   "outputs": [],
   "source": [
    "june_latter = june_jul.iloc[:2100,:]"
   ]
  },
  {
   "cell_type": "code",
   "execution_count": 19,
   "metadata": {},
   "outputs": [],
   "source": [
    "june_a = append_metadata(june_former, june_middle)"
   ]
  },
  {
   "cell_type": "code",
   "execution_count": 20,
   "metadata": {},
   "outputs": [],
   "source": [
    "june_b = append_metadata(june_a, june_09)"
   ]
  },
  {
   "cell_type": "code",
   "execution_count": 21,
   "metadata": {},
   "outputs": [],
   "source": [
    "june = append_metadata(june_b, june_latter)"
   ]
  },
  {
   "cell_type": "code",
   "execution_count": 22,
   "metadata": {},
   "outputs": [
    {
     "data": {
      "text/plain": [
       "(3000, 10)"
      ]
     },
     "execution_count": 22,
     "metadata": {},
     "output_type": "execute_result"
    }
   ],
   "source": [
    "june.shape"
   ]
  },
  {
   "cell_type": "code",
   "execution_count": 107,
   "metadata": {},
   "outputs": [],
   "source": [
    "write_csv(june, \"complete_tweets_2018_06.csv\")"
   ]
  },
  {
   "cell_type": "markdown",
   "metadata": {},
   "source": [
    "### May"
   ]
  },
  {
   "cell_type": "code",
   "execution_count": 23,
   "metadata": {},
   "outputs": [],
   "source": [
    "may = april_june.iloc[1100:4200,:]"
   ]
  },
  {
   "cell_type": "code",
   "execution_count": 24,
   "metadata": {},
   "outputs": [
    {
     "data": {
      "text/plain": [
       "(3100, 10)"
      ]
     },
     "execution_count": 24,
     "metadata": {},
     "output_type": "execute_result"
    }
   ],
   "source": [
    "may.shape"
   ]
  },
  {
   "cell_type": "code",
   "execution_count": 113,
   "metadata": {},
   "outputs": [],
   "source": [
    "write_csv(may, \"complete_tweets_2018_05.csv\")"
   ]
  },
  {
   "cell_type": "markdown",
   "metadata": {},
   "source": [
    "### April"
   ]
  },
  {
   "cell_type": "code",
   "execution_count": 25,
   "metadata": {},
   "outputs": [],
   "source": [
    "mar_apr = concat_metadata(\"tweets_2018-03-03_2018-04-17.csv\", \"\")\n",
    "mar_apr = mar_apr[mar_apr['date'].notna()].reset_index(drop=True)\n",
    "apr_mid = concat_metadata(\"tweets_2018-04-18_2018-04-19.csv\", \"\")"
   ]
  },
  {
   "cell_type": "code",
   "execution_count": 26,
   "metadata": {},
   "outputs": [],
   "source": [
    "apr_former = mar_apr.iloc[2900:,:]"
   ]
  },
  {
   "cell_type": "code",
   "execution_count": 27,
   "metadata": {},
   "outputs": [],
   "source": [
    "apr_latter = april_june.iloc[:1100,:]"
   ]
  },
  {
   "cell_type": "code",
   "execution_count": 28,
   "metadata": {},
   "outputs": [],
   "source": [
    "april_a = append_metadata(apr_former, apr_mid)\n",
    "april = append_metadata(april_a, apr_latter)"
   ]
  },
  {
   "cell_type": "code",
   "execution_count": 29,
   "metadata": {},
   "outputs": [
    {
     "data": {
      "text/plain": [
       "(3000, 10)"
      ]
     },
     "execution_count": 29,
     "metadata": {},
     "output_type": "execute_result"
    }
   ],
   "source": [
    "april.shape"
   ]
  },
  {
   "cell_type": "code",
   "execution_count": 190,
   "metadata": {},
   "outputs": [],
   "source": [
    "write_csv(april, \"complete_tweets_2018_04.csv\")"
   ]
  },
  {
   "cell_type": "markdown",
   "metadata": {},
   "source": [
    "### March"
   ]
  },
  {
   "cell_type": "code",
   "execution_count": 30,
   "metadata": {},
   "outputs": [],
   "source": [
    "jan_mar = concat_metadata(\"tweets_2018-01-15_2018-03-02.csv\", \"\")\n",
    "jan_mar = jan_mar[jan_mar['date'].notna()].reset_index(drop=True)"
   ]
  },
  {
   "cell_type": "code",
   "execution_count": 31,
   "metadata": {},
   "outputs": [],
   "source": [
    "mar_former = jan_mar.iloc[4500:,:]"
   ]
  },
  {
   "cell_type": "code",
   "execution_count": 32,
   "metadata": {},
   "outputs": [],
   "source": [
    "mar_latter = mar_apr.iloc[:2900,:]"
   ]
  },
  {
   "cell_type": "code",
   "execution_count": 33,
   "metadata": {},
   "outputs": [],
   "source": [
    "march = append_metadata(mar_former, mar_latter)"
   ]
  },
  {
   "cell_type": "code",
   "execution_count": 34,
   "metadata": {},
   "outputs": [
    {
     "data": {
      "text/plain": [
       "(3100, 10)"
      ]
     },
     "execution_count": 34,
     "metadata": {},
     "output_type": "execute_result"
    }
   ],
   "source": [
    "march.shape"
   ]
  },
  {
   "cell_type": "code",
   "execution_count": 197,
   "metadata": {},
   "outputs": [],
   "source": [
    "write_csv(march, \"complete_tweets_2018_03.csv\")"
   ]
  },
  {
   "cell_type": "markdown",
   "metadata": {},
   "source": [
    "### Feb"
   ]
  },
  {
   "cell_type": "code",
   "execution_count": 35,
   "metadata": {},
   "outputs": [],
   "source": [
    "feb = jan_mar.iloc[1700:4500,:]"
   ]
  },
  {
   "cell_type": "code",
   "execution_count": 36,
   "metadata": {},
   "outputs": [
    {
     "data": {
      "text/plain": [
       "(2800, 10)"
      ]
     },
     "execution_count": 36,
     "metadata": {},
     "output_type": "execute_result"
    }
   ],
   "source": [
    "feb.shape"
   ]
  },
  {
   "cell_type": "code",
   "execution_count": 209,
   "metadata": {},
   "outputs": [],
   "source": [
    "write_csv(feb, \"complete_tweets_2018_02.csv\")"
   ]
  },
  {
   "cell_type": "markdown",
   "metadata": {},
   "source": [
    "### Jan"
   ]
  },
  {
   "cell_type": "code",
   "execution_count": 37,
   "metadata": {},
   "outputs": [],
   "source": [
    "jan_former = concat_metadata(\"tweets_2018-01-01_2018-01-14.csv\", \"\")"
   ]
  },
  {
   "cell_type": "code",
   "execution_count": 38,
   "metadata": {},
   "outputs": [],
   "source": [
    "jan_latter = jan_mar.iloc[:1700,:]"
   ]
  },
  {
   "cell_type": "code",
   "execution_count": 39,
   "metadata": {},
   "outputs": [],
   "source": [
    "jan = append_metadata(jan_former, jan_latter)"
   ]
  },
  {
   "cell_type": "code",
   "execution_count": 40,
   "metadata": {},
   "outputs": [
    {
     "data": {
      "text/plain": [
       "(3100, 10)"
      ]
     },
     "execution_count": 40,
     "metadata": {},
     "output_type": "execute_result"
    }
   ],
   "source": [
    "jan.shape"
   ]
  },
  {
   "cell_type": "code",
   "execution_count": 216,
   "metadata": {},
   "outputs": [],
   "source": [
    "write_csv(jan, \"complete_tweets_2018_01.csv\")"
   ]
  },
  {
   "cell_type": "markdown",
   "metadata": {},
   "source": [
    "### Create Year data"
   ]
  },
  {
   "cell_type": "code",
   "execution_count": 41,
   "metadata": {},
   "outputs": [],
   "source": [
    "oct_dec = concat_metadata(\"complete_tweets_2018_10-12.csv\", \"\")"
   ]
  },
  {
   "cell_type": "code",
   "execution_count": 42,
   "metadata": {},
   "outputs": [],
   "source": [
    "S2 = append_metadata(jan, feb)\n",
    "S2 = append_metadata(S2, march)\n",
    "S2 = append_metadata(S2, april)\n",
    "S2 = append_metadata(S2, may)\n",
    "S2 = append_metadata(S2, june)\n",
    "S2 = append_metadata(S2, july)\n",
    "S2 = append_metadata(S2, aug)\n",
    "S2 = append_metadata(S2, sept)\n",
    "S2 = append_metadata(S2, oct_dec)"
   ]
  },
  {
   "cell_type": "code",
   "execution_count": 43,
   "metadata": {},
   "outputs": [],
   "source": [
    "write_csv(S2, \"complete_tweets_2018_uncut.csv\")"
   ]
  },
  {
   "cell_type": "markdown",
   "metadata": {},
   "source": [
    "### Shape Year data\n",
    "\n",
    "100 texts at midnight EST\n"
   ]
  },
  {
   "cell_type": "code",
   "execution_count": 44,
   "metadata": {},
   "outputs": [],
   "source": [
    "S2 = concat_metadata(\"complete_tweets_2018_uncut.csv\", \"\")\n",
    "S2['rounded_hour'] = S2['date'].dt.round('1H')"
   ]
  },
  {
   "cell_type": "code",
   "execution_count": 46,
   "metadata": {},
   "outputs": [],
   "source": [
    "S2_trim = S2.set_index('date')\n",
    "S2_trim = S2_trim.between_time('23:45:00', '00:15:00')\n",
    "S2_trim = S2_trim.groupby('rounded_hour').head(100).reset_index()"
   ]
  },
  {
   "cell_type": "code",
   "execution_count": 70,
   "metadata": {},
   "outputs": [
    {
     "data": {
      "text/plain": [
       "(36500, 11)"
      ]
     },
     "execution_count": 70,
     "metadata": {},
     "output_type": "execute_result"
    }
   ],
   "source": [
    "S2_trim.shape"
   ]
  },
  {
   "cell_type": "code",
   "execution_count": 71,
   "metadata": {},
   "outputs": [],
   "source": [
    "write_csv(S2_trim, \"complete_tweets_2018_trim.csv\")"
   ]
  },
  {
   "cell_type": "code",
   "execution_count": 67,
   "metadata": {},
   "outputs": [],
   "source": [
    "S2_check = S2_trim.copy()"
   ]
  },
  {
   "cell_type": "code",
   "execution_count": 68,
   "metadata": {},
   "outputs": [],
   "source": [
    "S2_check['month'] = pd.to_datetime(S2_check['rounded_hour']).apply(lambda x: '{year}-{month}'.format(year=x.year, month=x.month))"
   ]
  },
  {
   "cell_type": "code",
   "execution_count": 69,
   "metadata": {},
   "outputs": [
    {
     "data": {
      "text/html": [
       "<div>\n",
       "<style scoped>\n",
       "    .dataframe tbody tr th:only-of-type {\n",
       "        vertical-align: middle;\n",
       "    }\n",
       "\n",
       "    .dataframe tbody tr th {\n",
       "        vertical-align: top;\n",
       "    }\n",
       "\n",
       "    .dataframe thead th {\n",
       "        text-align: right;\n",
       "    }\n",
       "</style>\n",
       "<table border=\"1\" class=\"dataframe\">\n",
       "  <thead>\n",
       "    <tr style=\"text-align: right;\">\n",
       "      <th></th>\n",
       "      <th>date</th>\n",
       "      <th>tweets</th>\n",
       "      <th>user_name</th>\n",
       "      <th>user_screen_name</th>\n",
       "      <th>user_followers</th>\n",
       "      <th>user_friends</th>\n",
       "      <th>user_verified</th>\n",
       "      <th>user_language</th>\n",
       "      <th>retweet_count</th>\n",
       "      <th>favorite_count</th>\n",
       "      <th>rounded_hour</th>\n",
       "    </tr>\n",
       "    <tr>\n",
       "      <th>month</th>\n",
       "      <th></th>\n",
       "      <th></th>\n",
       "      <th></th>\n",
       "      <th></th>\n",
       "      <th></th>\n",
       "      <th></th>\n",
       "      <th></th>\n",
       "      <th></th>\n",
       "      <th></th>\n",
       "      <th></th>\n",
       "      <th></th>\n",
       "    </tr>\n",
       "  </thead>\n",
       "  <tbody>\n",
       "    <tr>\n",
       "      <th>2018-1</th>\n",
       "      <td>3100</td>\n",
       "      <td>3100</td>\n",
       "      <td>3100</td>\n",
       "      <td>3100</td>\n",
       "      <td>3100</td>\n",
       "      <td>3100</td>\n",
       "      <td>3100</td>\n",
       "      <td>3100</td>\n",
       "      <td>3100</td>\n",
       "      <td>3100</td>\n",
       "      <td>3100</td>\n",
       "    </tr>\n",
       "    <tr>\n",
       "      <th>2018-10</th>\n",
       "      <td>3100</td>\n",
       "      <td>3100</td>\n",
       "      <td>3098</td>\n",
       "      <td>3100</td>\n",
       "      <td>3100</td>\n",
       "      <td>3100</td>\n",
       "      <td>3100</td>\n",
       "      <td>3100</td>\n",
       "      <td>3100</td>\n",
       "      <td>3100</td>\n",
       "      <td>3100</td>\n",
       "    </tr>\n",
       "    <tr>\n",
       "      <th>2018-11</th>\n",
       "      <td>3000</td>\n",
       "      <td>3000</td>\n",
       "      <td>3000</td>\n",
       "      <td>3000</td>\n",
       "      <td>3000</td>\n",
       "      <td>3000</td>\n",
       "      <td>3000</td>\n",
       "      <td>3000</td>\n",
       "      <td>3000</td>\n",
       "      <td>3000</td>\n",
       "      <td>3000</td>\n",
       "    </tr>\n",
       "    <tr>\n",
       "      <th>2018-12</th>\n",
       "      <td>3100</td>\n",
       "      <td>3100</td>\n",
       "      <td>3100</td>\n",
       "      <td>3100</td>\n",
       "      <td>3100</td>\n",
       "      <td>3100</td>\n",
       "      <td>3100</td>\n",
       "      <td>3100</td>\n",
       "      <td>3100</td>\n",
       "      <td>3100</td>\n",
       "      <td>3100</td>\n",
       "    </tr>\n",
       "    <tr>\n",
       "      <th>2018-2</th>\n",
       "      <td>2800</td>\n",
       "      <td>2800</td>\n",
       "      <td>2800</td>\n",
       "      <td>2800</td>\n",
       "      <td>2800</td>\n",
       "      <td>2800</td>\n",
       "      <td>2800</td>\n",
       "      <td>2800</td>\n",
       "      <td>2800</td>\n",
       "      <td>2800</td>\n",
       "      <td>2800</td>\n",
       "    </tr>\n",
       "    <tr>\n",
       "      <th>2018-3</th>\n",
       "      <td>3100</td>\n",
       "      <td>3100</td>\n",
       "      <td>3100</td>\n",
       "      <td>3100</td>\n",
       "      <td>3100</td>\n",
       "      <td>3100</td>\n",
       "      <td>3100</td>\n",
       "      <td>3100</td>\n",
       "      <td>3100</td>\n",
       "      <td>3100</td>\n",
       "      <td>3100</td>\n",
       "    </tr>\n",
       "    <tr>\n",
       "      <th>2018-4</th>\n",
       "      <td>3000</td>\n",
       "      <td>3000</td>\n",
       "      <td>3000</td>\n",
       "      <td>3000</td>\n",
       "      <td>3000</td>\n",
       "      <td>3000</td>\n",
       "      <td>3000</td>\n",
       "      <td>3000</td>\n",
       "      <td>3000</td>\n",
       "      <td>3000</td>\n",
       "      <td>3000</td>\n",
       "    </tr>\n",
       "    <tr>\n",
       "      <th>2018-5</th>\n",
       "      <td>3100</td>\n",
       "      <td>3100</td>\n",
       "      <td>3100</td>\n",
       "      <td>3100</td>\n",
       "      <td>3100</td>\n",
       "      <td>3100</td>\n",
       "      <td>3100</td>\n",
       "      <td>3100</td>\n",
       "      <td>3100</td>\n",
       "      <td>3100</td>\n",
       "      <td>3100</td>\n",
       "    </tr>\n",
       "    <tr>\n",
       "      <th>2018-6</th>\n",
       "      <td>3000</td>\n",
       "      <td>3000</td>\n",
       "      <td>3000</td>\n",
       "      <td>3000</td>\n",
       "      <td>3000</td>\n",
       "      <td>3000</td>\n",
       "      <td>3000</td>\n",
       "      <td>3000</td>\n",
       "      <td>3000</td>\n",
       "      <td>3000</td>\n",
       "      <td>3000</td>\n",
       "    </tr>\n",
       "    <tr>\n",
       "      <th>2018-7</th>\n",
       "      <td>3100</td>\n",
       "      <td>3100</td>\n",
       "      <td>3100</td>\n",
       "      <td>3100</td>\n",
       "      <td>3100</td>\n",
       "      <td>3100</td>\n",
       "      <td>3100</td>\n",
       "      <td>3100</td>\n",
       "      <td>3100</td>\n",
       "      <td>3100</td>\n",
       "      <td>3100</td>\n",
       "    </tr>\n",
       "    <tr>\n",
       "      <th>2018-8</th>\n",
       "      <td>3100</td>\n",
       "      <td>3100</td>\n",
       "      <td>3100</td>\n",
       "      <td>3100</td>\n",
       "      <td>3100</td>\n",
       "      <td>3100</td>\n",
       "      <td>3100</td>\n",
       "      <td>3100</td>\n",
       "      <td>3100</td>\n",
       "      <td>3100</td>\n",
       "      <td>3100</td>\n",
       "    </tr>\n",
       "    <tr>\n",
       "      <th>2018-9</th>\n",
       "      <td>3000</td>\n",
       "      <td>3000</td>\n",
       "      <td>3000</td>\n",
       "      <td>3000</td>\n",
       "      <td>3000</td>\n",
       "      <td>3000</td>\n",
       "      <td>3000</td>\n",
       "      <td>3000</td>\n",
       "      <td>3000</td>\n",
       "      <td>3000</td>\n",
       "      <td>3000</td>\n",
       "    </tr>\n",
       "  </tbody>\n",
       "</table>\n",
       "</div>"
      ],
      "text/plain": [
       "         date  tweets  user_name  user_screen_name  user_followers  \\\n",
       "month                                                                \n",
       "2018-1   3100    3100       3100              3100            3100   \n",
       "2018-10  3100    3100       3098              3100            3100   \n",
       "2018-11  3000    3000       3000              3000            3000   \n",
       "2018-12  3100    3100       3100              3100            3100   \n",
       "2018-2   2800    2800       2800              2800            2800   \n",
       "2018-3   3100    3100       3100              3100            3100   \n",
       "2018-4   3000    3000       3000              3000            3000   \n",
       "2018-5   3100    3100       3100              3100            3100   \n",
       "2018-6   3000    3000       3000              3000            3000   \n",
       "2018-7   3100    3100       3100              3100            3100   \n",
       "2018-8   3100    3100       3100              3100            3100   \n",
       "2018-9   3000    3000       3000              3000            3000   \n",
       "\n",
       "         user_friends  user_verified  user_language  retweet_count  \\\n",
       "month                                                                \n",
       "2018-1           3100           3100           3100           3100   \n",
       "2018-10          3100           3100           3100           3100   \n",
       "2018-11          3000           3000           3000           3000   \n",
       "2018-12          3100           3100           3100           3100   \n",
       "2018-2           2800           2800           2800           2800   \n",
       "2018-3           3100           3100           3100           3100   \n",
       "2018-4           3000           3000           3000           3000   \n",
       "2018-5           3100           3100           3100           3100   \n",
       "2018-6           3000           3000           3000           3000   \n",
       "2018-7           3100           3100           3100           3100   \n",
       "2018-8           3100           3100           3100           3100   \n",
       "2018-9           3000           3000           3000           3000   \n",
       "\n",
       "         favorite_count  rounded_hour  \n",
       "month                                  \n",
       "2018-1             3100          3100  \n",
       "2018-10            3100          3100  \n",
       "2018-11            3000          3000  \n",
       "2018-12            3100          3100  \n",
       "2018-2             2800          2800  \n",
       "2018-3             3100          3100  \n",
       "2018-4             3000          3000  \n",
       "2018-5             3100          3100  \n",
       "2018-6             3000          3000  \n",
       "2018-7             3100          3100  \n",
       "2018-8             3100          3100  \n",
       "2018-9             3000          3000  "
      ]
     },
     "execution_count": 69,
     "metadata": {},
     "output_type": "execute_result"
    }
   ],
   "source": [
    "S2_check.groupby('month').count()"
   ]
  },
  {
   "cell_type": "code",
   "execution_count": null,
   "metadata": {},
   "outputs": [],
   "source": []
  }
 ],
 "metadata": {
  "kernelspec": {
   "display_name": "Python 3",
   "language": "python",
   "name": "python3"
  },
  "language_info": {
   "codemirror_mode": {
    "name": "ipython",
    "version": 3
   },
   "file_extension": ".py",
   "mimetype": "text/x-python",
   "name": "python",
   "nbconvert_exporter": "python",
   "pygments_lexer": "ipython3",
   "version": "3.7.1"
  }
 },
 "nbformat": 4,
 "nbformat_minor": 2
}
