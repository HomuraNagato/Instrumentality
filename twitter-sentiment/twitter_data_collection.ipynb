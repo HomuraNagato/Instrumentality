{
 "cells": [
  {
   "cell_type": "markdown",
   "metadata": {},
   "source": [
    "# Twitter data collection\n",
    "\n",
    "#### References\n",
    "\n",
    "searchtweets API reference: https://twitterdev.github.io/search-tweets-python/  \n",
    "Twitter API reference: https://developer.twitter.com/en/docs/tweets/search/api-reference/premium-search.html  \n",
    "Twitter tweet object and dictionary: https://developer.twitter.com/en/docs/tweets/data-dictionary/overview/tweet-object"
   ]
  },
  {
   "cell_type": "markdown",
   "metadata": {},
   "source": [
    "## Imports and credentials"
   ]
  },
  {
   "cell_type": "code",
   "execution_count": 40,
   "metadata": {},
   "outputs": [
    {
     "name": "stderr",
     "output_type": "stream",
     "text": [
      "Grabbing bearer token from OAUTH\n",
      "Grabbing bearer token from OAUTH\n"
     ]
    }
   ],
   "source": [
    "from searchtweets import ResultStream, gen_rule_payload, load_credentials, collect_results\n",
    "\n",
    "# general imports\n",
    "import numpy as np\n",
    "import pandas as pd\n",
    "from textblob import TextBlob\n",
    "import re\n",
    "import time\n",
    "import datetime\n",
    "\n",
    "# plotting and visualization\n",
    "import matplotlib\n",
    "import matplotlib.pyplot as plt\n",
    "%matplotlib inline\n",
    "\n",
    "premium_search_args_30day = load_credentials(\"~/.twitter_keys.yaml\",\n",
    "                                          yaml_key=\"search_tweets_premium_30day\",\n",
    "                                          env_overwrite=False)\n",
    "premium_search_args_fullarchive = load_credentials(\"~/.twitter_keys.yaml\",\n",
    "                                          yaml_key=\"search_tweets_premium_fullarchive\",\n",
    "                                          env_overwrite=False)"
   ]
  },
  {
   "cell_type": "markdown",
   "metadata": {},
   "source": [
    "## Functions"
   ]
  },
  {
   "cell_type": "code",
   "execution_count": 41,
   "metadata": {},
   "outputs": [],
   "source": [
    "def days_to_collect(start, end, frequency):\n",
    "    '''\n",
    "    will return an array starting at midnight of desired date to last frequency hour of end date\n",
    "    start = start date\n",
    "    end = end date\n",
    "    frequency = number of hours to step by per day. For example frequency = 12, will collect twice: at midnight and noon\n",
    "    '''\n",
    "    # add one day for right_side border case\n",
    "    # pd.date_range only allows dates, use rounding dates and closed='right' to get desired dates\n",
    "    #print(start, end)\n",
    "    start = datetime.datetime.strptime(start, '%Y-%m-%d') - datetime.timedelta(days=0, hours=int(frequency))\n",
    "    end = datetime.datetime.strptime(end, '%Y-%m-%d') + datetime.timedelta(days=1, hours=0)\n",
    "    #print(start, end)\n",
    "    dates = pd.date_range(start=start, end=end, freq=frequency+'H', closed='left')\n",
    "    formatted_dates = [ datetime.datetime.strftime(t, '%Y%m%d%H%M') for t in dates ]\n",
    "    #print(formatted_dates)\n",
    "    return formatted_dates\n",
    "\n",
    "def collect_tweets(from_date, to_date, max_results):\n",
    "    # maxResults is capped at 100 for sandbox account, even though there should be a next function to get more, it \n",
    "    # appears max_results=500 is accepted without any extra work\n",
    "    # date format: YYYY-mm-DD HH:MM\n",
    "    # from_date is inclusive. to_date is non-inclusive. Appears to start at from_date and start collecting tweets working\n",
    "    # backwards to to_date\n",
    "    bitcoin_rule = gen_rule_payload(\"bitcoin\", results_per_call=100, from_date=from_date, to_date=to_date) \n",
    "    print(bitcoin_rule)\n",
    "    collected_tweets = collect_results(bitcoin_rule, max_results=max_results, result_stream_args=premium_search_args)\n",
    "    return collected_tweets"
   ]
  },
  {
   "cell_type": "markdown",
   "metadata": {},
   "source": [
    "## Dates"
   ]
  },
  {
   "cell_type": "code",
   "execution_count": 49,
   "metadata": {
    "scrolled": true
   },
   "outputs": [
    {
     "name": "stdout",
     "output_type": "stream",
     "text": [
      "The intra-day hour interval is set to 24 Edit the code if desired to change this\n",
      "The number of tweets per interval is set to 100 Edit the code if desired to change this\n",
      "please input two dates in the format below to collect dates\n",
      "\t 2018-10-11 2018-10-15 \n",
      "\n",
      "\t2018-01-15 2018-03-02\n",
      "\n",
      "will use full-archive dev environment\n",
      "\n",
      "twitter recognized dates will be collected on the closed iterval from 2018-01-15 to 2018-03-02 spaced in 24 hour intervals\n"
     ]
    }
   ],
   "source": [
    "example_start_date = '2018-10-11'\n",
    "example_end_date = '2018-10-15'\n",
    "interval = 24\n",
    "results_per_call=100\n",
    "max_results = 100\n",
    "\n",
    "print(\"The intra-day hour interval is set to\", interval, \"Edit the code if desired to change this\")\n",
    "print(\"The number of tweets per interval is set to\", max_results, \"Edit the code if desired to change this\")\n",
    "print(\"please input two dates in the format below to collect dates\\n\\t\", example_start_date, example_end_date, \"\\n\")\n",
    "user_dates = input(\"\\t\")\n",
    "print()\n",
    "start_date, end_date = user_dates.split(' ')\n",
    "test_dates = days_to_collect(start_date, end_date, str(interval))\n",
    "\n",
    "if (datetime.datetime.fromtimestamp(time.time()) - datetime.datetime.strptime(start_date, '%Y-%m-%d')).days < 30:\n",
    "    premium_search_args = premium_search_args_30day\n",
    "    print(\"will use 30-day dev environment\")\n",
    "else:\n",
    "    premium_search_args = premium_search_args_fullarchive\n",
    "    print(\"will use full-archive dev environment\")\n",
    "    \n",
    "print(\"\\ntwitter recognized dates will be collected on the closed iterval from\", start_date, \"to\", end_date, \"spaced in\", str(interval), \"hour intervals\")"
   ]
  },
  {
   "cell_type": "markdown",
   "metadata": {},
   "source": [
    "## Twitter call"
   ]
  },
  {
   "cell_type": "code",
   "execution_count": 50,
   "metadata": {
    "scrolled": false
   },
   "outputs": [
    {
     "name": "stdout",
     "output_type": "stream",
     "text": [
      "{\"query\": \"bitcoin\", \"maxResults\": 100, \"toDate\": \"201801150000\", \"fromDate\": \"201801140000\"}\n",
      "{\"query\": \"bitcoin\", \"maxResults\": 100, \"toDate\": \"201801160000\", \"fromDate\": \"201801150000\"}\n",
      "waiting 10 seconds\n",
      "{\"query\": \"bitcoin\", \"maxResults\": 100, \"toDate\": \"201801170000\", \"fromDate\": \"201801160000\"}\n",
      "{\"query\": \"bitcoin\", \"maxResults\": 100, \"toDate\": \"201801180000\", \"fromDate\": \"201801170000\"}\n",
      "waiting 10 seconds\n",
      "{\"query\": \"bitcoin\", \"maxResults\": 100, \"toDate\": \"201801190000\", \"fromDate\": \"201801180000\"}\n",
      "{\"query\": \"bitcoin\", \"maxResults\": 100, \"toDate\": \"201801200000\", \"fromDate\": \"201801190000\"}\n",
      "waiting 10 seconds\n",
      "{\"query\": \"bitcoin\", \"maxResults\": 100, \"toDate\": \"201801210000\", \"fromDate\": \"201801200000\"}\n",
      "{\"query\": \"bitcoin\", \"maxResults\": 100, \"toDate\": \"201801220000\", \"fromDate\": \"201801210000\"}\n",
      "waiting 10 seconds\n",
      "{\"query\": \"bitcoin\", \"maxResults\": 100, \"toDate\": \"201801230000\", \"fromDate\": \"201801220000\"}\n",
      "{\"query\": \"bitcoin\", \"maxResults\": 100, \"toDate\": \"201801240000\", \"fromDate\": \"201801230000\"}\n",
      "waiting 10 seconds\n",
      "waiting 60 seconds\n",
      "{\"query\": \"bitcoin\", \"maxResults\": 100, \"toDate\": \"201801250000\", \"fromDate\": \"201801240000\"}\n",
      "{\"query\": \"bitcoin\", \"maxResults\": 100, \"toDate\": \"201801260000\", \"fromDate\": \"201801250000\"}\n",
      "waiting 10 seconds\n",
      "{\"query\": \"bitcoin\", \"maxResults\": 100, \"toDate\": \"201801270000\", \"fromDate\": \"201801260000\"}\n",
      "{\"query\": \"bitcoin\", \"maxResults\": 100, \"toDate\": \"201801280000\", \"fromDate\": \"201801270000\"}\n",
      "waiting 10 seconds\n",
      "{\"query\": \"bitcoin\", \"maxResults\": 100, \"toDate\": \"201801290000\", \"fromDate\": \"201801280000\"}\n",
      "{\"query\": \"bitcoin\", \"maxResults\": 100, \"toDate\": \"201801300000\", \"fromDate\": \"201801290000\"}\n",
      "waiting 10 seconds\n",
      "{\"query\": \"bitcoin\", \"maxResults\": 100, \"toDate\": \"201801310000\", \"fromDate\": \"201801300000\"}\n",
      "{\"query\": \"bitcoin\", \"maxResults\": 100, \"toDate\": \"201802010000\", \"fromDate\": \"201801310000\"}\n",
      "waiting 10 seconds\n",
      "{\"query\": \"bitcoin\", \"maxResults\": 100, \"toDate\": \"201802020000\", \"fromDate\": \"201802010000\"}\n",
      "{\"query\": \"bitcoin\", \"maxResults\": 100, \"toDate\": \"201802030000\", \"fromDate\": \"201802020000\"}\n",
      "waiting 60 seconds\n",
      "{\"query\": \"bitcoin\", \"maxResults\": 100, \"toDate\": \"201802040000\", \"fromDate\": \"201802030000\"}\n",
      "{\"query\": \"bitcoin\", \"maxResults\": 100, \"toDate\": \"201802050000\", \"fromDate\": \"201802040000\"}\n",
      "waiting 10 seconds\n",
      "{\"query\": \"bitcoin\", \"maxResults\": 100, \"toDate\": \"201802060000\", \"fromDate\": \"201802050000\"}\n",
      "{\"query\": \"bitcoin\", \"maxResults\": 100, \"toDate\": \"201802070000\", \"fromDate\": \"201802060000\"}\n",
      "waiting 10 seconds\n",
      "{\"query\": \"bitcoin\", \"maxResults\": 100, \"toDate\": \"201802080000\", \"fromDate\": \"201802070000\"}\n",
      "{\"query\": \"bitcoin\", \"maxResults\": 100, \"toDate\": \"201802090000\", \"fromDate\": \"201802080000\"}\n",
      "waiting 10 seconds\n",
      "{\"query\": \"bitcoin\", \"maxResults\": 100, \"toDate\": \"201802100000\", \"fromDate\": \"201802090000\"}\n",
      "{\"query\": \"bitcoin\", \"maxResults\": 100, \"toDate\": \"201802110000\", \"fromDate\": \"201802100000\"}\n",
      "waiting 10 seconds\n",
      "{\"query\": \"bitcoin\", \"maxResults\": 100, \"toDate\": \"201802120000\", \"fromDate\": \"201802110000\"}\n",
      "{\"query\": \"bitcoin\", \"maxResults\": 100, \"toDate\": \"201802130000\", \"fromDate\": \"201802120000\"}\n",
      "waiting 10 seconds\n",
      "waiting 60 seconds\n",
      "{\"query\": \"bitcoin\", \"maxResults\": 100, \"toDate\": \"201802140000\", \"fromDate\": \"201802130000\"}\n",
      "{\"query\": \"bitcoin\", \"maxResults\": 100, \"toDate\": \"201802150000\", \"fromDate\": \"201802140000\"}\n",
      "waiting 10 seconds\n",
      "{\"query\": \"bitcoin\", \"maxResults\": 100, \"toDate\": \"201802160000\", \"fromDate\": \"201802150000\"}\n",
      "{\"query\": \"bitcoin\", \"maxResults\": 100, \"toDate\": \"201802170000\", \"fromDate\": \"201802160000\"}\n",
      "waiting 10 seconds\n",
      "{\"query\": \"bitcoin\", \"maxResults\": 100, \"toDate\": \"201802180000\", \"fromDate\": \"201802170000\"}\n",
      "{\"query\": \"bitcoin\", \"maxResults\": 100, \"toDate\": \"201802190000\", \"fromDate\": \"201802180000\"}\n",
      "waiting 10 seconds\n",
      "{\"query\": \"bitcoin\", \"maxResults\": 100, \"toDate\": \"201802200000\", \"fromDate\": \"201802190000\"}\n",
      "{\"query\": \"bitcoin\", \"maxResults\": 100, \"toDate\": \"201802210000\", \"fromDate\": \"201802200000\"}\n",
      "waiting 10 seconds\n",
      "{\"query\": \"bitcoin\", \"maxResults\": 100, \"toDate\": \"201802220000\", \"fromDate\": \"201802210000\"}\n",
      "{\"query\": \"bitcoin\", \"maxResults\": 100, \"toDate\": \"201802230000\", \"fromDate\": \"201802220000\"}\n",
      "waiting 60 seconds\n",
      "{\"query\": \"bitcoin\", \"maxResults\": 100, \"toDate\": \"201802240000\", \"fromDate\": \"201802230000\"}\n",
      "{\"query\": \"bitcoin\", \"maxResults\": 100, \"toDate\": \"201802250000\", \"fromDate\": \"201802240000\"}\n",
      "waiting 10 seconds\n",
      "{\"query\": \"bitcoin\", \"maxResults\": 100, \"toDate\": \"201802260000\", \"fromDate\": \"201802250000\"}\n",
      "{\"query\": \"bitcoin\", \"maxResults\": 100, \"toDate\": \"201802270000\", \"fromDate\": \"201802260000\"}\n",
      "waiting 10 seconds\n",
      "{\"query\": \"bitcoin\", \"maxResults\": 100, \"toDate\": \"201802280000\", \"fromDate\": \"201802270000\"}\n",
      "{\"query\": \"bitcoin\", \"maxResults\": 100, \"toDate\": \"201803010000\", \"fromDate\": \"201802280000\"}\n",
      "waiting 10 seconds\n",
      "{\"query\": \"bitcoin\", \"maxResults\": 100, \"toDate\": \"201803020000\", \"fromDate\": \"201803010000\"}\n"
     ]
    }
   ],
   "source": [
    "tweets = []\n",
    "for i in range(0,len(test_dates[:-1])):\n",
    "    tweets = np.append(tweets, collect_tweets(test_dates[i], test_dates[i+1], max_results=max_results))\n",
    "    \n",
    "    # Requests are limited to 30 per minute for sandbox, 60 for subscriptions \n",
    "    # Requests are limited to 10 per second\n",
    "    num_calls = (i + 1) * max_results//results_per_call\n",
    "    if num_calls % 2 == 0 and num_calls % 20 != 0:\n",
    "        print(\"waiting 10 seconds\")\n",
    "        time.sleep(10)\n",
    "    if num_calls % 10 == 0:\n",
    "        print(\"waiting 60 seconds\")\n",
    "        time.sleep(60)"
   ]
  },
  {
   "cell_type": "code",
   "execution_count": 6,
   "metadata": {},
   "outputs": [
    {
     "data": {
      "text/plain": [
       "array([{'created_at': 'Fri Aug 31 23:59:57 +0000 2018', 'id': 1035678609157976065, 'id_str': '1035678609157976065', 'text': 'Haha @Eminem dropped that new album and name dropped $btc in it. Legit #bitcoin #notalike', 'source': '<a href=\"http://twitter.com/download/iphone\" rel=\"nofollow\">Twitter for iPhone</a>', 'truncated': False, 'in_reply_to_status_id': None, 'in_reply_to_status_id_str': None, 'in_reply_to_user_id': None, 'in_reply_to_user_id_str': None, 'in_reply_to_screen_name': None, 'user': {'id': 212643233, 'id_str': '212643233', 'name': 'TyrantMFSlayer', 'screen_name': 'TyrantMFSlayer', 'location': None, 'url': 'https://www.youtube.com/channel/UCr2z8VKsuFe5cD0XeFpyhgg', 'description': 'I game on PS4 pro PSN: TyrantMFSlayer   Please subscribe to my gaming YouTube! 👇🏽', 'translator_type': 'none', 'protected': False, 'verified': False, 'followers_count': 553, 'friends_count': 270, 'listed_count': 14, 'favourites_count': 6206, 'statuses_count': 19551, 'created_at': 'Sat Nov 06 17:00:40 +0000 2010', 'utc_offset': None, 'time_zone': None, 'geo_enabled': True, 'lang': 'en', 'contributors_enabled': False, 'is_translator': False, 'profile_background_color': '131516', 'profile_background_image_url': 'http://abs.twimg.com/images/themes/theme14/bg.gif', 'profile_background_image_url_https': 'https://abs.twimg.com/images/themes/theme14/bg.gif', 'profile_background_tile': True, 'profile_link_color': '009999', 'profile_sidebar_border_color': 'EEEEEE', 'profile_sidebar_fill_color': 'EFEFEF', 'profile_text_color': '333333', 'profile_use_background_image': True, 'profile_image_url': 'http://pbs.twimg.com/profile_images/1096062501005930497/lyOyVwxz_normal.jpg', 'profile_image_url_https': 'https://pbs.twimg.com/profile_images/1096062501005930497/lyOyVwxz_normal.jpg', 'profile_banner_url': 'https://pbs.twimg.com/profile_banners/212643233/1549206228', 'default_profile': False, 'default_profile_image': False, 'following': None, 'follow_request_sent': None, 'notifications': None}, 'geo': None, 'coordinates': None, 'place': None, 'contributors': None, 'is_quote_status': False, 'quote_count': 0, 'reply_count': 0, 'retweet_count': 0, 'favorite_count': 0, 'entities': {'hashtags': [{'text': 'bitcoin', 'indices': [71, 79]}, {'text': 'notalike', 'indices': [80, 89]}], 'urls': [], 'user_mentions': [{'screen_name': 'Eminem', 'name': 'Marshall Mathers', 'id': 22940219, 'id_str': '22940219', 'indices': [5, 12]}], 'symbols': [{'text': 'btc', 'indices': [53, 57]}]}, 'favorited': False, 'retweeted': False, 'filter_level': 'low', 'lang': 'en', 'matching_rules': [{'tag': None}]},\n",
       "       {'created_at': 'Fri Aug 31 23:59:51 +0000 2018', 'id': 1035678585854472192, 'id_str': '1035678585854472192', 'text': 'RT @coingecko: Have you tried comparing coins side by side?\\nWhich coin would you compare?\\nhttps://t.co/YaqydA8HMh\\n.\\n#cryptocurrency #coins…', 'source': '<a href=\"https://gleam.io\" rel=\"nofollow\">Gleam Competition App</a>', 'truncated': False, 'in_reply_to_status_id': None, 'in_reply_to_status_id_str': None, 'in_reply_to_user_id': None, 'in_reply_to_user_id_str': None, 'in_reply_to_screen_name': None, 'user': {'id': 17341278, 'id_str': '17341278', 'name': 'Rex Pruitt', 'screen_name': 'trexpruitt', 'location': 'Indian Trail, NC', 'url': 'http://www.mycaps.info', 'description': \"I Love Analytics! Opinions are my own and don't represent SAS.\", 'translator_type': 'none', 'protected': False, 'verified': False, 'followers_count': 556, 'friends_count': 864, 'listed_count': 29, 'favourites_count': 516, 'statuses_count': 851, 'created_at': 'Wed Nov 12 15:34:23 +0000 2008', 'utc_offset': None, 'time_zone': None, 'geo_enabled': True, 'lang': 'en', 'contributors_enabled': False, 'is_translator': False, 'profile_background_color': '022330', 'profile_background_image_url': 'http://abs.twimg.com/images/themes/theme15/bg.png', 'profile_background_image_url_https': 'https://abs.twimg.com/images/themes/theme15/bg.png', 'profile_background_tile': False, 'profile_link_color': '0084B4', 'profile_sidebar_border_color': 'A8C7F7', 'profile_sidebar_fill_color': 'C0DFEC', 'profile_text_color': '333333', 'profile_use_background_image': True, 'profile_image_url': 'http://pbs.twimg.com/profile_images/811156712279408640/s5qaiumc_normal.jpg', 'profile_image_url_https': 'https://pbs.twimg.com/profile_images/811156712279408640/s5qaiumc_normal.jpg', 'profile_banner_url': 'https://pbs.twimg.com/profile_banners/17341278/1426592191', 'default_profile': False, 'default_profile_image': False, 'following': None, 'follow_request_sent': None, 'notifications': None}, 'geo': None, 'coordinates': None, 'place': None, 'contributors': None, 'retweeted_status': {'created_at': 'Thu Aug 23 06:32:49 +0000 2018', 'id': 1032515987822669824, 'id_str': '1032515987822669824', 'text': 'Have you tried comparing coins side by side?\\nWhich coin would you compare?\\nhttps://t.co/YaqydA8HMh\\n.… https://t.co/ailPT9JQAU', 'display_text_range': [0, 140], 'source': '<a href=\"http://twitter.com\" rel=\"nofollow\">Twitter Web Client</a>', 'truncated': True, 'in_reply_to_status_id': None, 'in_reply_to_status_id_str': None, 'in_reply_to_user_id': None, 'in_reply_to_user_id_str': None, 'in_reply_to_screen_name': None, 'user': {'id': 2412652615, 'id_str': '2412652615', 'name': 'CoinGecko', 'screen_name': 'coingecko', 'location': None, 'url': 'http://www.coingecko.com', 'description': 'CoinGecko provides a fundamental analysis of the crypto market. For support requests, do email hello@coingecko.com', 'translator_type': 'none', 'protected': False, 'verified': False, 'followers_count': 24356, 'friends_count': 385, 'listed_count': 560, 'favourites_count': 5310, 'statuses_count': 13697, 'created_at': 'Wed Mar 26 13:54:48 +0000 2014', 'utc_offset': None, 'time_zone': None, 'geo_enabled': True, 'lang': 'en', 'contributors_enabled': False, 'is_translator': False, 'profile_background_color': 'C0DEED', 'profile_background_image_url': 'http://abs.twimg.com/images/themes/theme1/bg.png', 'profile_background_image_url_https': 'https://abs.twimg.com/images/themes/theme1/bg.png', 'profile_background_tile': False, 'profile_link_color': '1DA1F2', 'profile_sidebar_border_color': 'C0DEED', 'profile_sidebar_fill_color': 'DDEEF6', 'profile_text_color': '333333', 'profile_use_background_image': True, 'profile_image_url': 'http://pbs.twimg.com/profile_images/1058316783726223360/-JTajbfS_normal.jpg', 'profile_image_url_https': 'https://pbs.twimg.com/profile_images/1058316783726223360/-JTajbfS_normal.jpg', 'profile_banner_url': 'https://pbs.twimg.com/profile_banners/2412652615/1525233859', 'default_profile': True, 'default_profile_image': False, 'following': None, 'follow_request_sent': None, 'notifications': None}, 'geo': None, 'coordinates': None, 'place': None, 'contributors': None, 'is_quote_status': False, 'extended_tweet': {'full_text': 'Have you tried comparing coins side by side?\\nWhich coin would you compare?\\nhttps://t.co/YaqydA8HMh\\n.\\n#cryptocurrency #coins #compare #bitcoin #bitcoincash #ethereum #eos #blockchain #xrp #litecoin #stellar #tron #cardano #monero #neo #dash #zcash #ethereumclassic #Binance #yobit https://t.co/aBVKDQTJAU', 'display_text_range': [0, 279], 'entities': {'hashtags': [{'text': 'cryptocurrency', 'indices': [101, 116]}, {'text': 'coins', 'indices': [117, 123]}, {'text': 'compare', 'indices': [124, 132]}, {'text': 'bitcoin', 'indices': [133, 141]}, {'text': 'bitcoincash', 'indices': [142, 154]}, {'text': 'ethereum', 'indices': [155, 164]}, {'text': 'eos', 'indices': [165, 169]}, {'text': 'blockchain', 'indices': [170, 181]}, {'text': 'xrp', 'indices': [182, 186]}, {'text': 'litecoin', 'indices': [187, 196]}, {'text': 'stellar', 'indices': [197, 205]}, {'text': 'tron', 'indices': [206, 211]}, {'text': 'cardano', 'indices': [212, 220]}, {'text': 'monero', 'indices': [221, 228]}, {'text': 'neo', 'indices': [229, 233]}, {'text': 'dash', 'indices': [234, 239]}, {'text': 'zcash', 'indices': [240, 246]}, {'text': 'ethereumclassic', 'indices': [247, 263]}, {'text': 'Binance', 'indices': [264, 272]}, {'text': 'yobit', 'indices': [273, 279]}], 'urls': [{'url': 'https://t.co/YaqydA8HMh', 'expanded_url': 'https://www.coingecko.com/en/coins/compare', 'display_url': 'coingecko.com/en/coins/compa…', 'indices': [75, 98]}], 'user_mentions': [], 'symbols': [], 'media': [{'id': 1032515927089152000, 'id_str': '1032515927089152000', 'indices': [280, 303], 'media_url': 'http://pbs.twimg.com/media/DlQ7w-MVAAAGN0U.jpg', 'media_url_https': 'https://pbs.twimg.com/media/DlQ7w-MVAAAGN0U.jpg', 'url': 'https://t.co/aBVKDQTJAU', 'display_url': 'pic.twitter.com/aBVKDQTJAU', 'expanded_url': 'https://twitter.com/coingecko/status/1032515987822669824/photo/1', 'type': 'photo', 'sizes': {'large': {'w': 822, 'h': 960, 'resize': 'fit'}, 'thumb': {'w': 150, 'h': 150, 'resize': 'crop'}, 'medium': {'w': 822, 'h': 960, 'resize': 'fit'}, 'small': {'w': 582, 'h': 680, 'resize': 'fit'}}}]}, 'extended_entities': {'media': [{'id': 1032515927089152000, 'id_str': '1032515927089152000', 'indices': [280, 303], 'media_url': 'http://pbs.twimg.com/media/DlQ7w-MVAAAGN0U.jpg', 'media_url_https': 'https://pbs.twimg.com/media/DlQ7w-MVAAAGN0U.jpg', 'url': 'https://t.co/aBVKDQTJAU', 'display_url': 'pic.twitter.com/aBVKDQTJAU', 'expanded_url': 'https://twitter.com/coingecko/status/1032515987822669824/photo/1', 'type': 'photo', 'sizes': {'large': {'w': 822, 'h': 960, 'resize': 'fit'}, 'thumb': {'w': 150, 'h': 150, 'resize': 'crop'}, 'medium': {'w': 822, 'h': 960, 'resize': 'fit'}, 'small': {'w': 582, 'h': 680, 'resize': 'fit'}}}]}}, 'quote_count': 0, 'reply_count': 47, 'retweet_count': 1103, 'favorite_count': 328, 'entities': {'hashtags': [], 'urls': [{'url': 'https://t.co/YaqydA8HMh', 'expanded_url': 'https://www.coingecko.com/en/coins/compare', 'display_url': 'coingecko.com/en/coins/compa…', 'indices': [75, 98]}, {'url': 'https://t.co/ailPT9JQAU', 'expanded_url': 'https://twitter.com/i/web/status/1032515987822669824', 'display_url': 'twitter.com/i/web/status/1…', 'indices': [102, 125]}], 'user_mentions': [], 'symbols': []}, 'favorited': False, 'retweeted': False, 'possibly_sensitive': False, 'filter_level': 'low', 'lang': 'en'}, 'is_quote_status': False, 'quote_count': 0, 'reply_count': 0, 'retweet_count': 0, 'favorite_count': 0, 'entities': {'hashtags': [{'text': 'cryptocurrency', 'indices': [116, 131]}, {'text': 'coins', 'indices': [132, 138]}], 'urls': [{'url': 'https://t.co/YaqydA8HMh', 'expanded_url': 'https://www.coingecko.com/en/coins/compare', 'display_url': 'coingecko.com/en/coins/compa…', 'indices': [90, 113]}], 'user_mentions': [{'screen_name': 'coingecko', 'name': 'CoinGecko', 'id': 2412652615, 'id_str': '2412652615', 'indices': [3, 13]}], 'symbols': []}, 'favorited': False, 'retweeted': False, 'possibly_sensitive': False, 'filter_level': 'low', 'lang': 'en', 'matching_rules': [{'tag': None}]}],\n",
       "      dtype=object)"
      ]
     },
     "execution_count": 6,
     "metadata": {},
     "output_type": "execute_result"
    }
   ],
   "source": [
    "tweets[0:2]"
   ]
  },
  {
   "cell_type": "markdown",
   "metadata": {},
   "source": [
    "## To dataframe and csv"
   ]
  },
  {
   "cell_type": "code",
   "execution_count": null,
   "metadata": {
    "scrolled": true
   },
   "outputs": [],
   "source": [
    "def to_df(tweets):\n",
    "    # create a pandas df from tweets\n",
    "    S2 = pd.DataFrame(columns=['tweets', 'date', 'user_name', 'user_screen_name', 'user_followers', \n",
    "                           'user_friends', 'user_verified', 'user_language', 'retweet_count', 'favorite_count'])\n",
    "\n",
    "    for i, tweet in enumerate(tweets):\n",
    "        S2.loc[i] = [tweet['text'], \n",
    "                     tweet['created_at'], \n",
    "                     tweet['user']['name'], \n",
    "                     tweet['user']['screen_name'], \n",
    "                     tweet['user']['followers_count'], \n",
    "                     tweet['user']['friends_count'], \n",
    "                     tweet['user']['verified'], \n",
    "                     tweet['user']['lang'], \n",
    "                     tweet['retweet_count'], \n",
    "                     tweet['favorite_count']] \n",
    "    return S2\n",
    "\n",
    "S2 = to_df(tweets)"
   ]
  },
  {
   "cell_type": "code",
   "execution_count": 47,
   "metadata": {},
   "outputs": [
    {
     "data": {
      "text/html": [
       "<div>\n",
       "<style scoped>\n",
       "    .dataframe tbody tr th:only-of-type {\n",
       "        vertical-align: middle;\n",
       "    }\n",
       "\n",
       "    .dataframe tbody tr th {\n",
       "        vertical-align: top;\n",
       "    }\n",
       "\n",
       "    .dataframe thead th {\n",
       "        text-align: right;\n",
       "    }\n",
       "</style>\n",
       "<table border=\"1\" class=\"dataframe\">\n",
       "  <thead>\n",
       "    <tr style=\"text-align: right;\">\n",
       "      <th></th>\n",
       "      <th>tweets</th>\n",
       "      <th>date</th>\n",
       "      <th>user_name</th>\n",
       "      <th>user_screen_name</th>\n",
       "      <th>user_followers</th>\n",
       "      <th>user_friends</th>\n",
       "      <th>user_verified</th>\n",
       "      <th>user_language</th>\n",
       "      <th>retweet_count</th>\n",
       "      <th>favorite_count</th>\n",
       "    </tr>\n",
       "  </thead>\n",
       "  <tbody>\n",
       "    <tr>\n",
       "      <th>195</th>\n",
       "      <td>RT @JWilliamsFstmed: The Winklevoss brothers, ...</td>\n",
       "      <td>Wed Apr 18 23:57:45 +0000 2018</td>\n",
       "      <td>John Lin</td>\n",
       "      <td>grasta_man</td>\n",
       "      <td>85</td>\n",
       "      <td>220</td>\n",
       "      <td>False</td>\n",
       "      <td>en</td>\n",
       "      <td>0</td>\n",
       "      <td>0</td>\n",
       "    </tr>\n",
       "    <tr>\n",
       "      <th>196</th>\n",
       "      <td>Is Bitcoin Still a Good Investment? https://t....</td>\n",
       "      <td>Wed Apr 18 23:57:45 +0000 2018</td>\n",
       "      <td>Galeriks ✍️</td>\n",
       "      <td>galeriks</td>\n",
       "      <td>2196</td>\n",
       "      <td>1152</td>\n",
       "      <td>False</td>\n",
       "      <td>en</td>\n",
       "      <td>0</td>\n",
       "      <td>0</td>\n",
       "    </tr>\n",
       "    <tr>\n",
       "      <th>197</th>\n",
       "      <td>RT @politico: A man suspected of stealing hund...</td>\n",
       "      <td>Wed Apr 18 23:57:43 +0000 2018</td>\n",
       "      <td>Nick</td>\n",
       "      <td>nick_forcier</td>\n",
       "      <td>400</td>\n",
       "      <td>403</td>\n",
       "      <td>False</td>\n",
       "      <td>en</td>\n",
       "      <td>0</td>\n",
       "      <td>0</td>\n",
       "    </tr>\n",
       "    <tr>\n",
       "      <th>198</th>\n",
       "      <td>RT @politico: A man suspected of stealing hund...</td>\n",
       "      <td>Wed Apr 18 23:57:43 +0000 2018</td>\n",
       "      <td>Nick</td>\n",
       "      <td>nick_forcier</td>\n",
       "      <td>400</td>\n",
       "      <td>403</td>\n",
       "      <td>False</td>\n",
       "      <td>en</td>\n",
       "      <td>0</td>\n",
       "      <td>0</td>\n",
       "    </tr>\n",
       "    <tr>\n",
       "      <th>199</th>\n",
       "      <td>RT @TIPMayerMultple: Apr 18, 2018: The current...</td>\n",
       "      <td>Wed Apr 18 23:57:42 +0000 2018</td>\n",
       "      <td>Deep State</td>\n",
       "      <td>HempBarrel</td>\n",
       "      <td>170</td>\n",
       "      <td>850</td>\n",
       "      <td>False</td>\n",
       "      <td>en</td>\n",
       "      <td>0</td>\n",
       "      <td>0</td>\n",
       "    </tr>\n",
       "  </tbody>\n",
       "</table>\n",
       "</div>"
      ],
      "text/plain": [
       "                                                tweets  \\\n",
       "195  RT @JWilliamsFstmed: The Winklevoss brothers, ...   \n",
       "196  Is Bitcoin Still a Good Investment? https://t....   \n",
       "197  RT @politico: A man suspected of stealing hund...   \n",
       "198  RT @politico: A man suspected of stealing hund...   \n",
       "199  RT @TIPMayerMultple: Apr 18, 2018: The current...   \n",
       "\n",
       "                               date    user_name user_screen_name  \\\n",
       "195  Wed Apr 18 23:57:45 +0000 2018     John Lin       grasta_man   \n",
       "196  Wed Apr 18 23:57:45 +0000 2018  Galeriks ✍️         galeriks   \n",
       "197  Wed Apr 18 23:57:43 +0000 2018         Nick     nick_forcier   \n",
       "198  Wed Apr 18 23:57:43 +0000 2018         Nick     nick_forcier   \n",
       "199  Wed Apr 18 23:57:42 +0000 2018   Deep State       HempBarrel   \n",
       "\n",
       "    user_followers user_friends user_verified user_language retweet_count  \\\n",
       "195             85          220         False            en             0   \n",
       "196           2196         1152         False            en             0   \n",
       "197            400          403         False            en             0   \n",
       "198            400          403         False            en             0   \n",
       "199            170          850         False            en             0   \n",
       "\n",
       "    favorite_count  \n",
       "195              0  \n",
       "196              0  \n",
       "197              0  \n",
       "198              0  \n",
       "199              0  "
      ]
     },
     "execution_count": 47,
     "metadata": {},
     "output_type": "execute_result"
    }
   ],
   "source": [
    "S2.tail()"
   ]
  },
  {
   "cell_type": "code",
   "execution_count": 48,
   "metadata": {},
   "outputs": [
    {
     "name": "stdout",
     "output_type": "stream",
     "text": [
      "saved file complete_tweets/tweets_2018-04-18_2018-04-19.csv\n"
     ]
    }
   ],
   "source": [
    "# save file to csv\n",
    "'''\n",
    "S2_tweets = S2.loc[:,['tweets']]\n",
    "S2_meta = S2.drop(['tweets'], axis=1)\n",
    "\n",
    "filename = 'complete_tweets/tweets_' + start_date + '_' + end_date\n",
    "S2_tweets.to_csv(filename + '_Tweets.csv', index=False)\n",
    "S2_meta.to_csv(filename + '_Metadata.csv', index=False)\n",
    "print('saved files', filename + '_Tweets.csv', 'and', filename + '_Metadata.csv')\n",
    "'''\n",
    "\n",
    "filename = 'complete_tweets/tweets_' + start_date + '_' + end_date + '.csv'\n",
    "S2.to_csv(filename, index=False)\n",
    "print('saved file', filename)"
   ]
  },
  {
   "cell_type": "code",
   "execution_count": null,
   "metadata": {},
   "outputs": [],
   "source": []
  }
 ],
 "metadata": {
  "kernelspec": {
   "display_name": "Python 3",
   "language": "python",
   "name": "python3"
  },
  "language_info": {
   "codemirror_mode": {
    "name": "ipython",
    "version": 3
   },
   "file_extension": ".py",
   "mimetype": "text/x-python",
   "name": "python",
   "nbconvert_exporter": "python",
   "pygments_lexer": "ipython3",
   "version": "3.7.2"
  }
 },
 "nbformat": 4,
 "nbformat_minor": 2
}
