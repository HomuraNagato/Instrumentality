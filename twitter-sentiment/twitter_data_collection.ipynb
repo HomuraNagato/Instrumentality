{
 "cells": [
  {
   "cell_type": "markdown",
   "metadata": {},
   "source": [
    "# Twitter data collection\n",
    "\n",
    "#### References\n",
    "\n",
    "searchtweets API reference: https://twitterdev.github.io/search-tweets-python/  \n",
    "Twitter API reference: https://developer.twitter.com/en/docs/tweets/search/api-reference/premium-search.html  \n",
    "Twitter tweet object and dictionary: https://developer.twitter.com/en/docs/tweets/data-dictionary/overview/tweet-object"
   ]
  },
  {
   "cell_type": "markdown",
   "metadata": {},
   "source": [
    "## Imports and credentials"
   ]
  },
  {
   "cell_type": "code",
   "execution_count": 15,
   "metadata": {},
   "outputs": [
    {
     "name": "stderr",
     "output_type": "stream",
     "text": [
      "Grabbing bearer token from OAUTH\n",
      "Grabbing bearer token from OAUTH\n"
     ]
    }
   ],
   "source": [
    "from searchtweets import ResultStream, gen_rule_payload, load_credentials, collect_results\n",
    "\n",
    "# general imports\n",
    "import numpy as np\n",
    "import pandas as pd\n",
    "from textblob import TextBlob\n",
    "import re\n",
    "import time\n",
    "import datetime\n",
    "\n",
    "# plotting and visualization\n",
    "import matplotlib\n",
    "import matplotlib.pyplot as plt\n",
    "%matplotlib inline\n",
    "\n",
    "premium_search_args_30day = load_credentials(\"~/.twitter_keys.yaml\",\n",
    "                                          yaml_key=\"search_tweets_premium_30day\",\n",
    "                                          env_overwrite=False)\n",
    "premium_search_args_fullarchive = load_credentials(\"~/.twitter_keys.yaml\",\n",
    "                                          yaml_key=\"search_tweets_premium_fullarchive\",\n",
    "                                          env_overwrite=False)"
   ]
  },
  {
   "cell_type": "markdown",
   "metadata": {},
   "source": [
    "## Functions"
   ]
  },
  {
   "cell_type": "code",
   "execution_count": 16,
   "metadata": {},
   "outputs": [],
   "source": [
    "def days_to_collect(start, end, frequency):\n",
    "    '''\n",
    "    will return an array starting at midnight of desired date to last frequency hour of end date\n",
    "    start = start date\n",
    "    end = end date\n",
    "    frequency = number of hours to step by per day. For example frequency = 12, will collect twice: at midnight and noon\n",
    "    '''\n",
    "    # add one day for right_side border case\n",
    "    # pd.date_range only allows dates, use rounding dates and closed='right' to get desired dates\n",
    "    #print(start, end)\n",
    "    start = datetime.datetime.strptime(start, '%Y-%m-%d') - datetime.timedelta(days=0, hours=int(frequency))\n",
    "    end = datetime.datetime.strptime(end, '%Y-%m-%d') + datetime.timedelta(days=1, hours=0)\n",
    "    #print(start, end)\n",
    "    dates = pd.date_range(start=start, end=end, freq=frequency+'H', closed='left')\n",
    "    formatted_dates = [ datetime.datetime.strftime(t, '%Y%m%d%H%M') for t in dates ]\n",
    "    #print(formatted_dates)\n",
    "    return formatted_dates\n",
    "\n",
    "def collect_tweets(from_date, to_date, max_results):\n",
    "    # maxResults is capped at 100 for sandbox account, even though there should be a next function to get more, it \n",
    "    # appears max_results=500 is accepted without any extra work\n",
    "    # date format: YYYY-mm-DD HH:MM\n",
    "    # from_date is inclusive. to_date is non-inclusive. Appears to start at from_date and start collecting tweets working\n",
    "    # backwards to to_date\n",
    "    bitcoin_rule = gen_rule_payload(\"bitcoin\", results_per_call=100, from_date=from_date, to_date=to_date) \n",
    "    print(bitcoin_rule)\n",
    "    collected_tweets = collect_results(bitcoin_rule, max_results=max_results, result_stream_args=premium_search_args)\n",
    "    return collected_tweets"
   ]
  },
  {
   "cell_type": "markdown",
   "metadata": {},
   "source": [
    "## Dates"
   ]
  },
  {
   "cell_type": "code",
   "execution_count": 17,
   "metadata": {
    "scrolled": true
   },
   "outputs": [
    {
     "name": "stdout",
     "output_type": "stream",
     "text": [
      "The intra-day hour interval is set to 24 Edit the code if desired to change this\n",
      "The number of tweets per interval is set to 100 Edit the code if desired to change this\n",
      "please input two dates in the format below to collect dates\n",
      "\t 2018-10-11 2018-10-15 \n",
      "\n",
      "\t2017-11-16 2017-12-31\n",
      "\n",
      "will use full-archive dev environment\n",
      "\n",
      "twitter recognized dates will be collected on the closed iterval from 2017-11-16 to 2017-12-31 spaced in 24 hour intervals\n"
     ]
    }
   ],
   "source": [
    "example_start_date = '2018-10-11'\n",
    "example_end_date = '2018-10-15'\n",
    "interval = 24\n",
    "results_per_call=100\n",
    "max_results = 100\n",
    "\n",
    "print(\"The intra-day hour interval is set to\", interval, \"Edit the code if desired to change this\")\n",
    "print(\"The number of tweets per interval is set to\", max_results, \"Edit the code if desired to change this\")\n",
    "print(\"please input two dates in the format below to collect dates\\n\\t\", example_start_date, example_end_date, \"\\n\")\n",
    "user_dates = input(\"\\t\")\n",
    "print()\n",
    "start_date, end_date = user_dates.split(' ')\n",
    "test_dates = days_to_collect(start_date, end_date, str(interval))\n",
    "\n",
    "if (datetime.datetime.fromtimestamp(time.time()) - datetime.datetime.strptime(start_date, '%Y-%m-%d')).days < 30:\n",
    "    premium_search_args = premium_search_args_30day\n",
    "    print(\"will use 30-day dev environment\")\n",
    "else:\n",
    "    premium_search_args = premium_search_args_fullarchive\n",
    "    print(\"will use full-archive dev environment\")\n",
    "    \n",
    "print(\"\\ntwitter recognized dates will be collected on the closed iterval from\", start_date, \"to\", end_date, \"spaced in\", str(interval), \"hour intervals\")"
   ]
  },
  {
   "cell_type": "markdown",
   "metadata": {},
   "source": [
    "## Twitter call"
   ]
  },
  {
   "cell_type": "code",
   "execution_count": 18,
   "metadata": {
    "scrolled": false
   },
   "outputs": [
    {
     "name": "stdout",
     "output_type": "stream",
     "text": [
      "{\"query\": \"bitcoin\", \"maxResults\": 100, \"toDate\": \"201711160000\", \"fromDate\": \"201711150000\"}\n",
      "{\"query\": \"bitcoin\", \"maxResults\": 100, \"toDate\": \"201711170000\", \"fromDate\": \"201711160000\"}\n",
      "waiting 10 seconds\n",
      "{\"query\": \"bitcoin\", \"maxResults\": 100, \"toDate\": \"201711180000\", \"fromDate\": \"201711170000\"}\n",
      "{\"query\": \"bitcoin\", \"maxResults\": 100, \"toDate\": \"201711190000\", \"fromDate\": \"201711180000\"}\n",
      "waiting 10 seconds\n",
      "{\"query\": \"bitcoin\", \"maxResults\": 100, \"toDate\": \"201711200000\", \"fromDate\": \"201711190000\"}\n",
      "{\"query\": \"bitcoin\", \"maxResults\": 100, \"toDate\": \"201711210000\", \"fromDate\": \"201711200000\"}\n",
      "waiting 10 seconds\n",
      "{\"query\": \"bitcoin\", \"maxResults\": 100, \"toDate\": \"201711220000\", \"fromDate\": \"201711210000\"}\n",
      "{\"query\": \"bitcoin\", \"maxResults\": 100, \"toDate\": \"201711230000\", \"fromDate\": \"201711220000\"}\n",
      "waiting 10 seconds\n",
      "{\"query\": \"bitcoin\", \"maxResults\": 100, \"toDate\": \"201711240000\", \"fromDate\": \"201711230000\"}\n",
      "{\"query\": \"bitcoin\", \"maxResults\": 100, \"toDate\": \"201711250000\", \"fromDate\": \"201711240000\"}\n",
      "waiting 10 seconds\n",
      "waiting 60 seconds\n",
      "{\"query\": \"bitcoin\", \"maxResults\": 100, \"toDate\": \"201711260000\", \"fromDate\": \"201711250000\"}\n",
      "{\"query\": \"bitcoin\", \"maxResults\": 100, \"toDate\": \"201711270000\", \"fromDate\": \"201711260000\"}\n",
      "waiting 10 seconds\n",
      "{\"query\": \"bitcoin\", \"maxResults\": 100, \"toDate\": \"201711280000\", \"fromDate\": \"201711270000\"}\n",
      "{\"query\": \"bitcoin\", \"maxResults\": 100, \"toDate\": \"201711290000\", \"fromDate\": \"201711280000\"}\n",
      "waiting 10 seconds\n",
      "{\"query\": \"bitcoin\", \"maxResults\": 100, \"toDate\": \"201711300000\", \"fromDate\": \"201711290000\"}\n",
      "{\"query\": \"bitcoin\", \"maxResults\": 100, \"toDate\": \"201712010000\", \"fromDate\": \"201711300000\"}\n",
      "waiting 10 seconds\n",
      "{\"query\": \"bitcoin\", \"maxResults\": 100, \"toDate\": \"201712020000\", \"fromDate\": \"201712010000\"}\n",
      "{\"query\": \"bitcoin\", \"maxResults\": 100, \"toDate\": \"201712030000\", \"fromDate\": \"201712020000\"}\n",
      "waiting 10 seconds\n",
      "{\"query\": \"bitcoin\", \"maxResults\": 100, \"toDate\": \"201712040000\", \"fromDate\": \"201712030000\"}\n",
      "{\"query\": \"bitcoin\", \"maxResults\": 100, \"toDate\": \"201712050000\", \"fromDate\": \"201712040000\"}\n",
      "waiting 60 seconds\n",
      "{\"query\": \"bitcoin\", \"maxResults\": 100, \"toDate\": \"201712060000\", \"fromDate\": \"201712050000\"}\n",
      "{\"query\": \"bitcoin\", \"maxResults\": 100, \"toDate\": \"201712070000\", \"fromDate\": \"201712060000\"}\n",
      "waiting 10 seconds\n",
      "{\"query\": \"bitcoin\", \"maxResults\": 100, \"toDate\": \"201712080000\", \"fromDate\": \"201712070000\"}\n",
      "{\"query\": \"bitcoin\", \"maxResults\": 100, \"toDate\": \"201712090000\", \"fromDate\": \"201712080000\"}\n",
      "waiting 10 seconds\n",
      "{\"query\": \"bitcoin\", \"maxResults\": 100, \"toDate\": \"201712100000\", \"fromDate\": \"201712090000\"}\n",
      "{\"query\": \"bitcoin\", \"maxResults\": 100, \"toDate\": \"201712110000\", \"fromDate\": \"201712100000\"}\n",
      "waiting 10 seconds\n",
      "{\"query\": \"bitcoin\", \"maxResults\": 100, \"toDate\": \"201712120000\", \"fromDate\": \"201712110000\"}\n",
      "{\"query\": \"bitcoin\", \"maxResults\": 100, \"toDate\": \"201712130000\", \"fromDate\": \"201712120000\"}\n",
      "waiting 10 seconds\n",
      "{\"query\": \"bitcoin\", \"maxResults\": 100, \"toDate\": \"201712140000\", \"fromDate\": \"201712130000\"}\n",
      "{\"query\": \"bitcoin\", \"maxResults\": 100, \"toDate\": \"201712150000\", \"fromDate\": \"201712140000\"}\n",
      "waiting 10 seconds\n",
      "waiting 60 seconds\n",
      "{\"query\": \"bitcoin\", \"maxResults\": 100, \"toDate\": \"201712160000\", \"fromDate\": \"201712150000\"}\n",
      "{\"query\": \"bitcoin\", \"maxResults\": 100, \"toDate\": \"201712170000\", \"fromDate\": \"201712160000\"}\n",
      "waiting 10 seconds\n",
      "{\"query\": \"bitcoin\", \"maxResults\": 100, \"toDate\": \"201712180000\", \"fromDate\": \"201712170000\"}\n",
      "{\"query\": \"bitcoin\", \"maxResults\": 100, \"toDate\": \"201712190000\", \"fromDate\": \"201712180000\"}\n",
      "waiting 10 seconds\n",
      "{\"query\": \"bitcoin\", \"maxResults\": 100, \"toDate\": \"201712200000\", \"fromDate\": \"201712190000\"}\n",
      "{\"query\": \"bitcoin\", \"maxResults\": 100, \"toDate\": \"201712210000\", \"fromDate\": \"201712200000\"}\n",
      "waiting 10 seconds\n",
      "{\"query\": \"bitcoin\", \"maxResults\": 100, \"toDate\": \"201712220000\", \"fromDate\": \"201712210000\"}\n",
      "{\"query\": \"bitcoin\", \"maxResults\": 100, \"toDate\": \"201712230000\", \"fromDate\": \"201712220000\"}\n",
      "waiting 10 seconds\n",
      "{\"query\": \"bitcoin\", \"maxResults\": 100, \"toDate\": \"201712240000\", \"fromDate\": \"201712230000\"}\n",
      "{\"query\": \"bitcoin\", \"maxResults\": 100, \"toDate\": \"201712250000\", \"fromDate\": \"201712240000\"}\n",
      "waiting 60 seconds\n",
      "{\"query\": \"bitcoin\", \"maxResults\": 100, \"toDate\": \"201712260000\", \"fromDate\": \"201712250000\"}\n",
      "{\"query\": \"bitcoin\", \"maxResults\": 100, \"toDate\": \"201712270000\", \"fromDate\": \"201712260000\"}\n",
      "waiting 10 seconds\n",
      "{\"query\": \"bitcoin\", \"maxResults\": 100, \"toDate\": \"201712280000\", \"fromDate\": \"201712270000\"}\n",
      "{\"query\": \"bitcoin\", \"maxResults\": 100, \"toDate\": \"201712290000\", \"fromDate\": \"201712280000\"}\n",
      "waiting 10 seconds\n",
      "{\"query\": \"bitcoin\", \"maxResults\": 100, \"toDate\": \"201712300000\", \"fromDate\": \"201712290000\"}\n",
      "{\"query\": \"bitcoin\", \"maxResults\": 100, \"toDate\": \"201712310000\", \"fromDate\": \"201712300000\"}\n",
      "waiting 10 seconds\n"
     ]
    }
   ],
   "source": [
    "tweets = []\n",
    "for i in range(0,len(test_dates[:-1])):\n",
    "    tweets = np.append(tweets, collect_tweets(test_dates[i], test_dates[i+1], max_results=max_results))\n",
    "    \n",
    "    # Requests are limited to 30 per minute for sandbox, 60 for subscriptions \n",
    "    # Requests are limited to 10 per second\n",
    "    num_calls = (i + 1) * max_results//results_per_call\n",
    "    if num_calls % 2 == 0 and num_calls % 20 != 0:\n",
    "        print(\"waiting 10 seconds\")\n",
    "        time.sleep(10)\n",
    "    if num_calls % 10 == 0:\n",
    "        print(\"waiting 60 seconds\")\n",
    "        time.sleep(60)"
   ]
  },
  {
   "cell_type": "code",
   "execution_count": 19,
   "metadata": {},
   "outputs": [
    {
     "data": {
      "text/plain": [
       "array([{'created_at': 'Wed Nov 15 23:59:59 +0000 2017', 'id': 930948526883921920, 'id_str': '930948526883921920', 'text': 'RT@roymaj BLOCKCHAIN INVESTMENTS 💰\\n#bitcoin #btc #ethereummining #BitcoinCash #bitcoiner #blockchain #investments… https://t.co/l3ajLe4OhC', 'source': '<a href=\"http://nodered.org\" rel=\"nofollow\">Node RED </a>', 'truncated': True, 'in_reply_to_status_id': None, 'in_reply_to_status_id_str': None, 'in_reply_to_user_id': None, 'in_reply_to_user_id_str': None, 'in_reply_to_screen_name': None, 'user': {'id': 353520385, 'id_str': '353520385', 'name': 'Michael Gieselmann', 'screen_name': 'MGieselmann', 'location': 'Ratingen, Germany', 'url': 'http://www.linkedin.com/in/michael-gieselmann', 'description': 'Teamleiter PM Industrie DACH @SchneiderElecDE #Automation #Industrie40 #IIoT #3Dprinting #M2M #BigData #AugmentedReality', 'translator_type': 'none', 'protected': False, 'verified': False, 'followers_count': 1254, 'friends_count': 50, 'listed_count': 51, 'favourites_count': 35, 'statuses_count': 201840, 'created_at': 'Fri Aug 12 06:04:25 +0000 2011', 'utc_offset': None, 'time_zone': None, 'geo_enabled': False, 'lang': 'de', 'contributors_enabled': False, 'is_translator': False, 'profile_background_color': '000000', 'profile_background_image_url': 'http://abs.twimg.com/images/themes/theme1/bg.png', 'profile_background_image_url_https': 'https://abs.twimg.com/images/themes/theme1/bg.png', 'profile_background_tile': False, 'profile_link_color': '006400', 'profile_sidebar_border_color': '000000', 'profile_sidebar_fill_color': '000000', 'profile_text_color': '000000', 'profile_use_background_image': False, 'profile_image_url': 'http://pbs.twimg.com/profile_images/922104385534136321/ZeqKhd-P_normal.jpg', 'profile_image_url_https': 'https://pbs.twimg.com/profile_images/922104385534136321/ZeqKhd-P_normal.jpg', 'profile_banner_url': 'https://pbs.twimg.com/profile_banners/353520385/1510861278', 'default_profile': False, 'default_profile_image': False, 'following': None, 'follow_request_sent': None, 'notifications': None}, 'geo': None, 'coordinates': None, 'place': None, 'contributors': None, 'is_quote_status': False, 'extended_tweet': {'full_text': 'RT@roymaj BLOCKCHAIN INVESTMENTS 💰\\n#bitcoin #btc #ethereummining #BitcoinCash #bitcoiner #blockchain #investments $LTV $HIVE\\nhttps://t.co/1nLdlSvqUn', 'display_text_range': [0, 148], 'entities': {'hashtags': [{'text': 'bitcoin', 'indices': [35, 43]}, {'text': 'btc', 'indices': [44, 48]}, {'text': 'ethereummining', 'indices': [49, 64]}, {'text': 'BitcoinCash', 'indices': [65, 77]}, {'text': 'bitcoiner', 'indices': [78, 88]}, {'text': 'blockchain', 'indices': [89, 100]}, {'text': 'investments', 'indices': [101, 113]}], 'urls': [{'url': 'https://t.co/1nLdlSvqUn', 'expanded_url': 'https://t.co/', 'display_url': 't.co', 'indices': [125, 148]}], 'user_mentions': [{'screen_name': 'roymaj', 'name': '$€%6€', 'id': 197433990, 'id_str': '197433990', 'indices': [2, 9]}], 'symbols': [{'text': 'LTV', 'indices': [114, 118]}, {'text': 'HIVE', 'indices': [119, 124]}]}}, 'quote_count': 0, 'reply_count': 0, 'retweet_count': 0, 'favorite_count': 0, 'entities': {'hashtags': [{'text': 'bitcoin', 'indices': [35, 43]}, {'text': 'btc', 'indices': [44, 48]}, {'text': 'ethereummining', 'indices': [49, 64]}, {'text': 'BitcoinCash', 'indices': [65, 77]}, {'text': 'bitcoiner', 'indices': [78, 88]}, {'text': 'blockchain', 'indices': [89, 100]}, {'text': 'investments', 'indices': [101, 113]}], 'urls': [{'url': 'https://t.co/l3ajLe4OhC', 'expanded_url': 'https://twitter.com/i/web/status/930948526883921920', 'display_url': 'twitter.com/i/web/status/9…', 'indices': [115, 138]}], 'user_mentions': [{'screen_name': 'roymaj', 'name': '$€%6€', 'id': 197433990, 'id_str': '197433990', 'indices': [2, 9]}], 'symbols': []}, 'favorited': False, 'retweeted': False, 'possibly_sensitive': False, 'filter_level': 'low', 'lang': 'en', 'matching_rules': [{'tag': None}]},\n",
       "       {'created_at': 'Wed Nov 15 23:59:59 +0000 2017', 'id': 930948524870598658, 'id_str': '930948524870598658', 'text': 'RT @ECHINVEST: This is the best place to get your first digital currency! Come check out Coinbase - try it! #bitcoin #ethereum #litecoin #c…', 'source': '<a href=\"http://twitter.com/download/iphone\" rel=\"nofollow\">Twitter for iPhone</a>', 'truncated': False, 'in_reply_to_status_id': None, 'in_reply_to_status_id_str': None, 'in_reply_to_user_id': None, 'in_reply_to_user_id_str': None, 'in_reply_to_screen_name': None, 'user': {'id': 36476953, 'id_str': '36476953', 'name': 'Jan Hofmann', 'screen_name': 'hekinadedul', 'location': None, 'url': None, 'description': None, 'translator_type': 'none', 'protected': False, 'verified': False, 'followers_count': 7, 'friends_count': 29, 'listed_count': 0, 'favourites_count': 9, 'statuses_count': 18, 'created_at': 'Wed Apr 29 20:51:02 +0000 2009', 'utc_offset': None, 'time_zone': None, 'geo_enabled': True, 'lang': 'de', 'contributors_enabled': False, 'is_translator': False, 'profile_background_color': 'C0DEED', 'profile_background_image_url': 'http://abs.twimg.com/images/themes/theme1/bg.png', 'profile_background_image_url_https': 'https://abs.twimg.com/images/themes/theme1/bg.png', 'profile_background_tile': False, 'profile_link_color': '1DA1F2', 'profile_sidebar_border_color': 'C0DEED', 'profile_sidebar_fill_color': 'DDEEF6', 'profile_text_color': '333333', 'profile_use_background_image': True, 'profile_image_url': 'http://abs.twimg.com/sticky/default_profile_images/default_profile_normal.png', 'profile_image_url_https': 'https://abs.twimg.com/sticky/default_profile_images/default_profile_normal.png', 'default_profile': True, 'default_profile_image': False, 'following': None, 'follow_request_sent': None, 'notifications': None}, 'geo': None, 'coordinates': None, 'place': None, 'contributors': None, 'retweeted_status': {'created_at': 'Wed Nov 15 10:32:35 +0000 2017', 'id': 930745336334864384, 'id_str': '930745336334864384', 'text': 'This is the best place to get your first digital currency! Come check out Coinbase - try it! #bitcoin #ethereum… https://t.co/krY4ay8Rcn', 'source': '<a href=\"http://twitter.com\" rel=\"nofollow\">Twitter Web Client</a>', 'truncated': True, 'in_reply_to_status_id': None, 'in_reply_to_status_id_str': None, 'in_reply_to_user_id': None, 'in_reply_to_user_id_str': None, 'in_reply_to_screen_name': None, 'user': {'id': 927375409494282240, 'id_str': '927375409494282240', 'name': 'HODL!', 'screen_name': 'JAX_CRYPT0', 'location': 'Florida, USA', 'url': None, 'description': 'https://www.binance.com/?ref=11803967\\nhttp://Graviex.net\\nReferral: 72bbde1945203fa6405fa10c', 'translator_type': 'none', 'protected': False, 'verified': False, 'followers_count': 1369, 'friends_count': 4590, 'listed_count': 3, 'favourites_count': 198, 'statuses_count': 293, 'created_at': 'Mon Nov 06 03:21:42 +0000 2017', 'utc_offset': None, 'time_zone': None, 'geo_enabled': False, 'lang': 'en', 'contributors_enabled': False, 'is_translator': False, 'profile_background_color': '000000', 'profile_background_image_url': 'http://abs.twimg.com/images/themes/theme1/bg.png', 'profile_background_image_url_https': 'https://abs.twimg.com/images/themes/theme1/bg.png', 'profile_background_tile': False, 'profile_link_color': '19CF86', 'profile_sidebar_border_color': '000000', 'profile_sidebar_fill_color': '000000', 'profile_text_color': '000000', 'profile_use_background_image': False, 'profile_image_url': 'http://pbs.twimg.com/profile_images/961873243651977216/MQ5PPoxK_normal.jpg', 'profile_image_url_https': 'https://pbs.twimg.com/profile_images/961873243651977216/MQ5PPoxK_normal.jpg', 'profile_banner_url': 'https://pbs.twimg.com/profile_banners/927375409494282240/1518163795', 'default_profile': False, 'default_profile_image': False, 'following': None, 'follow_request_sent': None, 'notifications': None}, 'geo': None, 'coordinates': None, 'place': None, 'contributors': None, 'is_quote_status': False, 'extended_tweet': {'full_text': 'This is the best place to get your first digital currency! Come check out Coinbase - try it! #bitcoin #ethereum #litecoin #cryptocurrency #investing \\nhttps://t.co/1j3eetBI7W', 'display_text_range': [0, 173], 'entities': {'hashtags': [{'text': 'bitcoin', 'indices': [93, 101]}, {'text': 'ethereum', 'indices': [102, 111]}, {'text': 'litecoin', 'indices': [112, 121]}, {'text': 'cryptocurrency', 'indices': [122, 137]}, {'text': 'investing', 'indices': [138, 148]}], 'urls': [{'url': 'https://t.co/1j3eetBI7W', 'expanded_url': 'https://www.coinbase.com/join/5990f97dbe238b0087d0b73e?src=twitter', 'display_url': 'coinbase.com/join/5990f97db…', 'indices': [150, 173]}], 'user_mentions': [], 'symbols': []}}, 'quote_count': 0, 'reply_count': 0, 'retweet_count': 490, 'favorite_count': 3, 'entities': {'hashtags': [{'text': 'bitcoin', 'indices': [93, 101]}, {'text': 'ethereum', 'indices': [102, 111]}], 'urls': [{'url': 'https://t.co/krY4ay8Rcn', 'expanded_url': 'https://twitter.com/i/web/status/930745336334864384', 'display_url': 'twitter.com/i/web/status/9…', 'indices': [113, 136]}], 'user_mentions': [], 'symbols': []}, 'favorited': False, 'retweeted': False, 'possibly_sensitive': False, 'filter_level': 'low', 'lang': 'en'}, 'is_quote_status': False, 'quote_count': 0, 'reply_count': 0, 'retweet_count': 0, 'favorite_count': 0, 'entities': {'hashtags': [{'text': 'bitcoin', 'indices': [108, 116]}, {'text': 'ethereum', 'indices': [117, 126]}, {'text': 'litecoin', 'indices': [127, 136]}], 'urls': [], 'user_mentions': [{'screen_name': 'ECHINVEST', 'name': None, 'id': None, 'id_str': None, 'indices': [3, 13]}], 'symbols': []}, 'favorited': False, 'retweeted': False, 'filter_level': 'low', 'lang': 'en', 'matching_rules': [{'tag': None}]}],\n",
       "      dtype=object)"
      ]
     },
     "execution_count": 19,
     "metadata": {},
     "output_type": "execute_result"
    }
   ],
   "source": [
    "tweets[0:2]"
   ]
  },
  {
   "cell_type": "markdown",
   "metadata": {},
   "source": [
    "## To dataframe and csv"
   ]
  },
  {
   "cell_type": "code",
   "execution_count": 20,
   "metadata": {
    "scrolled": true
   },
   "outputs": [],
   "source": [
    "def to_df(tweets):\n",
    "    # create a pandas df from tweets\n",
    "    S2 = pd.DataFrame(columns=['tweets', 'date', 'user_name', 'user_screen_name', 'user_followers', \n",
    "                           'user_friends', 'user_verified', 'user_language', 'retweet_count', 'favorite_count'])\n",
    "\n",
    "    for i, tweet in enumerate(tweets):\n",
    "        S2.loc[i] = [tweet['text'], \n",
    "                     tweet['created_at'], \n",
    "                     tweet['user']['name'], \n",
    "                     tweet['user']['screen_name'], \n",
    "                     tweet['user']['followers_count'], \n",
    "                     tweet['user']['friends_count'], \n",
    "                     tweet['user']['verified'], \n",
    "                     tweet['user']['lang'], \n",
    "                     tweet['retweet_count'], \n",
    "                     tweet['favorite_count']] \n",
    "    return S2\n",
    "\n",
    "S2 = to_df(tweets)"
   ]
  },
  {
   "cell_type": "code",
   "execution_count": 21,
   "metadata": {},
   "outputs": [
    {
     "data": {
      "text/html": [
       "<div>\n",
       "<style scoped>\n",
       "    .dataframe tbody tr th:only-of-type {\n",
       "        vertical-align: middle;\n",
       "    }\n",
       "\n",
       "    .dataframe tbody tr th {\n",
       "        vertical-align: top;\n",
       "    }\n",
       "\n",
       "    .dataframe thead th {\n",
       "        text-align: right;\n",
       "    }\n",
       "</style>\n",
       "<table border=\"1\" class=\"dataframe\">\n",
       "  <thead>\n",
       "    <tr style=\"text-align: right;\">\n",
       "      <th></th>\n",
       "      <th>tweets</th>\n",
       "      <th>date</th>\n",
       "      <th>user_name</th>\n",
       "      <th>user_screen_name</th>\n",
       "      <th>user_followers</th>\n",
       "      <th>user_friends</th>\n",
       "      <th>user_verified</th>\n",
       "      <th>user_language</th>\n",
       "      <th>retweet_count</th>\n",
       "      <th>favorite_count</th>\n",
       "    </tr>\n",
       "  </thead>\n",
       "  <tbody>\n",
       "    <tr>\n",
       "      <th>4595</th>\n",
       "      <td>RT @biggzi: Time to revive the meme... #Bitcoi...</td>\n",
       "      <td>Sat Dec 30 23:58:57 +0000 2017</td>\n",
       "      <td>Marianne Warth</td>\n",
       "      <td>WarthMarianne</td>\n",
       "      <td>12</td>\n",
       "      <td>113</td>\n",
       "      <td>False</td>\n",
       "      <td>en</td>\n",
       "      <td>0</td>\n",
       "      <td>0</td>\n",
       "    </tr>\n",
       "    <tr>\n",
       "      <th>4596</th>\n",
       "      <td>Needs and wants....debts and bills...............</td>\n",
       "      <td>Sat Dec 30 23:58:57 +0000 2017</td>\n",
       "      <td>Oluwatobi</td>\n",
       "      <td>theniceguy8</td>\n",
       "      <td>135</td>\n",
       "      <td>351</td>\n",
       "      <td>False</td>\n",
       "      <td>en</td>\n",
       "      <td>0</td>\n",
       "      <td>0</td>\n",
       "    </tr>\n",
       "    <tr>\n",
       "      <th>4597</th>\n",
       "      <td>@eyeone @jptrophardy @Ben_Harper @stiancarlsen...</td>\n",
       "      <td>Sat Dec 30 23:58:56 +0000 2017</td>\n",
       "      <td>Thεο ¯\\_[ôo]_/¯</td>\n",
       "      <td>codeCrypto</td>\n",
       "      <td>1264</td>\n",
       "      <td>2203</td>\n",
       "      <td>False</td>\n",
       "      <td>en</td>\n",
       "      <td>1</td>\n",
       "      <td>1</td>\n",
       "    </tr>\n",
       "    <tr>\n",
       "      <th>4598</th>\n",
       "      <td>RT @Cointelegraph: US dollar will end 2017 as ...</td>\n",
       "      <td>Sat Dec 30 23:58:52 +0000 2017</td>\n",
       "      <td>Tory Crypto</td>\n",
       "      <td>Tory_Crypto</td>\n",
       "      <td>73</td>\n",
       "      <td>20</td>\n",
       "      <td>False</td>\n",
       "      <td>en</td>\n",
       "      <td>0</td>\n",
       "      <td>0</td>\n",
       "    </tr>\n",
       "    <tr>\n",
       "      <th>4599</th>\n",
       "      <td>RT @Cointelegraph: US dollar will end 2017 as ...</td>\n",
       "      <td>Sat Dec 30 23:58:52 +0000 2017</td>\n",
       "      <td>Tory Crypto</td>\n",
       "      <td>Tory_Crypto</td>\n",
       "      <td>73</td>\n",
       "      <td>20</td>\n",
       "      <td>False</td>\n",
       "      <td>en</td>\n",
       "      <td>0</td>\n",
       "      <td>0</td>\n",
       "    </tr>\n",
       "  </tbody>\n",
       "</table>\n",
       "</div>"
      ],
      "text/plain": [
       "                                                 tweets  \\\n",
       "4595  RT @biggzi: Time to revive the meme... #Bitcoi...   \n",
       "4596  Needs and wants....debts and bills...............   \n",
       "4597  @eyeone @jptrophardy @Ben_Harper @stiancarlsen...   \n",
       "4598  RT @Cointelegraph: US dollar will end 2017 as ...   \n",
       "4599  RT @Cointelegraph: US dollar will end 2017 as ...   \n",
       "\n",
       "                                date        user_name user_screen_name  \\\n",
       "4595  Sat Dec 30 23:58:57 +0000 2017   Marianne Warth    WarthMarianne   \n",
       "4596  Sat Dec 30 23:58:57 +0000 2017        Oluwatobi      theniceguy8   \n",
       "4597  Sat Dec 30 23:58:56 +0000 2017  Thεο ¯\\_[ôo]_/¯       codeCrypto   \n",
       "4598  Sat Dec 30 23:58:52 +0000 2017      Tory Crypto      Tory_Crypto   \n",
       "4599  Sat Dec 30 23:58:52 +0000 2017      Tory Crypto      Tory_Crypto   \n",
       "\n",
       "     user_followers user_friends user_verified user_language retweet_count  \\\n",
       "4595             12          113         False            en             0   \n",
       "4596            135          351         False            en             0   \n",
       "4597           1264         2203         False            en             1   \n",
       "4598             73           20         False            en             0   \n",
       "4599             73           20         False            en             0   \n",
       "\n",
       "     favorite_count  \n",
       "4595              0  \n",
       "4596              0  \n",
       "4597              1  \n",
       "4598              0  \n",
       "4599              0  "
      ]
     },
     "execution_count": 21,
     "metadata": {},
     "output_type": "execute_result"
    }
   ],
   "source": [
    "S2.tail()"
   ]
  },
  {
   "cell_type": "code",
   "execution_count": 22,
   "metadata": {},
   "outputs": [
    {
     "name": "stdout",
     "output_type": "stream",
     "text": [
      "saved file complete_tweets/tweets_2017-11-16_2017-12-31.csv\n"
     ]
    }
   ],
   "source": [
    "# save file to csv\n",
    "'''\n",
    "S2_tweets = S2.loc[:,['tweets']]\n",
    "S2_meta = S2.drop(['tweets'], axis=1)\n",
    "\n",
    "filename = 'complete_tweets/tweets_' + start_date + '_' + end_date\n",
    "S2_tweets.to_csv(filename + '_Tweets.csv', index=False)\n",
    "S2_meta.to_csv(filename + '_Metadata.csv', index=False)\n",
    "print('saved files', filename + '_Tweets.csv', 'and', filename + '_Metadata.csv')\n",
    "'''\n",
    "\n",
    "filename = 'complete_tweets/tweets_' + start_date + '_' + end_date + '.csv'\n",
    "S2.to_csv(filename, index=False)\n",
    "print('saved file', filename)"
   ]
  },
  {
   "cell_type": "code",
   "execution_count": null,
   "metadata": {},
   "outputs": [],
   "source": []
  }
 ],
 "metadata": {
  "kernelspec": {
   "display_name": "Python 3",
   "language": "python",
   "name": "python3"
  },
  "language_info": {
   "codemirror_mode": {
    "name": "ipython",
    "version": 3
   },
   "file_extension": ".py",
   "mimetype": "text/x-python",
   "name": "python",
   "nbconvert_exporter": "python",
   "pygments_lexer": "ipython3",
   "version": "3.7.1"
  }
 },
 "nbformat": 4,
 "nbformat_minor": 2
}
